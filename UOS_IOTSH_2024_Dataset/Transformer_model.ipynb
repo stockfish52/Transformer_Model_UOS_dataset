{
 "cells": [
  {
   "cell_type": "code",
   "execution_count": 1,
   "id": "8cf6c6c0-390f-4691-b5fb-43c661b907ef",
   "metadata": {},
   "outputs": [],
   "source": [
    "import tensorflow as tf\n",
    "import numpy as np\n",
    "import matplotlib.pyplot as plt\n",
    "import pandas as pd\n",
    "import math\n",
    "from sklearn.model_selection import train_test_split"
   ]
  },
  {
   "cell_type": "code",
   "execution_count": 2,
   "id": "bdc025c1",
   "metadata": {},
   "outputs": [
    {
     "name": "stdout",
     "output_type": "stream",
     "text": [
      "Đường dẫn hiện tại là: c:\\Users\\Admin\\Desktop\\LVTN_Master\\UOS_IOTSH_2024-Dataset-main\\UOS_IOTSH_2024_Dataset\n",
      "Đường dẫn hiện tại là: True\n"
     ]
    }
   ],
   "source": [
    "import os\n",
    "\n",
    "# Lấy đường dẫn hiện tại\n",
    "current_path = os.getcwd()\n",
    "print(\"Đường dẫn hiện tại là:\", current_path)\n",
    "#\n",
    "current_path = os.path.isfile(r\".\\2-Single_Attacker\\1-Small_Network\\SingleAttacker_Small_SingleDODAG_4.csv\")\n",
    "print(\"Đường dẫn hiện tại là:\", current_path)"
   ]
  },
  {
   "cell_type": "code",
   "execution_count": 3,
   "id": "db46043a-6e9b-4f56-81db-89bf536d5ffb",
   "metadata": {},
   "outputs": [],
   "source": [
    "file_paths = [\n",
    "            r\".\\2-Single_Attacker\\1-Small_Network\\SingleAttacker_Small_SingleDODAG_2.csv\",\n",
    "            r\".\\2-Single_Attacker\\1-Small_Network\\SingleAttacker_Small_SingleDODAG_3.csv\",\n",
    "            r\".\\2-Single_Attacker\\1-Small_Network\\SingleAttacker_Small_SingleDODAG_4.csv\",\n",
    "            r\".\\2-Single_Attacker\\1-Small_Network\\SingleAttacker_Small_SingleDODAG_5.csv\",\n",
    "            r\".\\2-Single_Attacker\\1-Small_Network\\SingleAttacker_Small_SingleDODAG_6.csv\",\n",
    "            r\".\\2-Single_Attacker\\1-Small_Network\\SingleAttacker_Small_SingleDODAG_7.csv\",\n",
    "            r\".\\2-Single_Attacker\\1-Small_Network\\SingleAttacker_Small_SingleDODAG_8.csv\",\n",
    "            r\".\\2-Single_Attacker\\1-Small_Network\\SingleAttacker_Small_SingleDODAG_9.csv\",\n",
    "            r\".\\2-Single_Attacker\\1-Small_Network\\SingleAttacker_Small_SingleDODAG_10.csv\",\n",
    "            r\".\\2-Single_Attacker\\1-Small_Network\\SingleAttacker_Small_SingleDODAG_11.csv\",\n",
    "            r\".\\2-Single_Attacker\\1-Small_Network\\SingleAttacker_Small_SingleDODAG_12.csv\",\n",
    "            r\".\\2-Single_Attacker\\1-Small_Network\\SingleAttacker_Small_SingleDODAG_13.csv\",\n",
    "            r\".\\2-Single_Attacker\\2-Medium_Network_Single_DODAG\\SingleAttacker_Medium_SingleDODAG_2.csv\",\n",
    "            r\".\\2-Single_Attacker\\2-Medium_Network_Single_DODAG\\SingleAttacker_Medium_SingleDODAG_3.csv\",\n",
    "            r\".\\2-Single_Attacker\\2-Medium_Network_Single_DODAG\\SingleAttacker_Medium_SingleDODAG_4.csv\",\n",
    "            r\".\\2-Single_Attacker\\2-Medium_Network_Single_DODAG\\SingleAttacker_Medium_SingleDODAG_5.csv\",\n",
    "            r\".\\2-Single_Attacker\\2-Medium_Network_Single_DODAG\\SingleAttacker_Medium_SingleDODAG_6.csv\",\n",
    "            r\".\\2-Single_Attacker\\2-Medium_Network_Single_DODAG\\SingleAttacker_Medium_SingleDODAG_7.csv\",\n",
    "            r\".\\2-Single_Attacker\\2-Medium_Network_Single_DODAG\\SingleAttacker_Medium_SingleDODAG_8.csv\",\n",
    "            r\".\\2-Single_Attacker\\2-Medium_Network_Single_DODAG\\SingleAttacker_Medium_SingleDODAG_9.csv\",\n",
    "            r\".\\2-Single_Attacker\\2-Medium_Network_Single_DODAG\\SingleAttacker_Medium_SingleDODAG_10.csv\",\n",
    "            r\".\\2-Single_Attacker\\2-Medium_Network_Single_DODAG\\SingleAttacker_Medium_SingleDODAG_11.csv\",\n",
    "            r\".\\2-Single_Attacker\\2-Medium_Network_Single_DODAG\\SingleAttacker_Medium_SingleDODAG_12.csv\",\n",
    "            r\".\\2-Single_Attacker\\2-Medium_Network_Single_DODAG\\SingleAttacker_Medium_SingleDODAG_13.csv\",\n",
    "            r\".\\2-Single_Attacker\\2-Medium_Network_Single_DODAG\\SingleAttacker_Medium_SingleDODAG_15.csv\",\n",
    "            r\".\\2-Single_Attacker\\2-Medium_Network_Single_DODAG\\SingleAttacker_Medium_SingleDODAG_16.csv\",\n",
    "            r\".\\2-Single_Attacker\\2-Medium_Network_Single_DODAG\\SingleAttacker_Medium_SingleDODAG_17.csv\",\n",
    "            r\".\\2-Single_Attacker\\2-Medium_Network_Single_DODAG\\SingleAttacker_Medium_SingleDODAG_18.csv\",\n",
    "            r\".\\2-Single_Attacker\\2-Medium_Network_Single_DODAG\\SingleAttacker_Medium_SingleDODAG_19.csv\",\n",
    "            r\".\\2-Single_Attacker\\2-Medium_Network_Single_DODAG\\SingleAttacker_Medium_SingleDODAG_20.csv\",\n",
    "            r\".\\2-Single_Attacker\\2-Medium_Network_Single_DODAG\\SingleAttacker_Medium_SingleDODAG_21.csv\",\n",
    "            r\".\\2-Single_Attacker\\2-Medium_Network_Single_DODAG\\SingleAttacker_Medium_SingleDODAG_22.csv\",\n",
    "            r\".\\2-Single_Attacker\\2-Medium_Network_Single_DODAG\\SingleAttacker_Medium_SingleDODAG_23.csv\",\n",
    "            r\".\\2-Single_Attacker\\2-Medium_Network_Single_DODAG\\SingleAttacker_Medium_SingleDODAG_24.csv\",\n",
    "            r\".\\2-Single_Attacker\\2-Medium_Network_Single_DODAG\\SingleAttacker_Medium_SingleDODAG_25.csv\",\n",
    "            r\".\\2-Single_Attacker\\2-Medium_Network_Single_DODAG\\SingleAttacker_Medium_SingleDODAG_26.csv\",\n",
    "            r\".\\2-Single_Attacker\\3-Medium_Network_Dual_DODAGs\\SingleAttacker_Medium_DualDODAG_2.csv\",\n",
    "            r\".\\2-Single_Attacker\\3-Medium_Network_Dual_DODAGs\\SingleAttacker_Medium_DualDODAG_3.csv\",\n",
    "            r\".\\2-Single_Attacker\\3-Medium_Network_Dual_DODAGs\\SingleAttacker_Medium_DualDODAG_4.csv\",\n",
    "            r\".\\2-Single_Attacker\\3-Medium_Network_Dual_DODAGs\\SingleAttacker_Medium_DualDODAG_5.csv\",\n",
    "            r\".\\2-Single_Attacker\\3-Medium_Network_Dual_DODAGs\\SingleAttacker_Medium_DualDODAG_6.csv\",\n",
    "            r\".\\2-Single_Attacker\\3-Medium_Network_Dual_DODAGs\\SingleAttacker_Medium_DualDODAG_7.csv\",\n",
    "            r\".\\2-Single_Attacker\\3-Medium_Network_Dual_DODAGs\\SingleAttacker_Medium_DualDODAG_8.csv\",\n",
    "            r\".\\2-Single_Attacker\\3-Medium_Network_Dual_DODAGs\\SingleAttacker_Medium_DualDODAG_9.csv\",\n",
    "            r\".\\2-Single_Attacker\\3-Medium_Network_Dual_DODAGs\\SingleAttacker_Medium_DualDODAG_10.csv\",\n",
    "            r\".\\2-Single_Attacker\\3-Medium_Network_Dual_DODAGs\\SingleAttacker_Medium_DualDODAG_11.csv\",\n",
    "            r\".\\2-Single_Attacker\\3-Medium_Network_Dual_DODAGs\\SingleAttacker_Medium_DualDODAG_12.csv\",\n",
    "            r\".\\2-Single_Attacker\\3-Medium_Network_Dual_DODAGs\\SingleAttacker_Medium_DualDODAG_13.csv\",\n",
    "            r\".\\2-Single_Attacker\\3-Medium_Network_Dual_DODAGs\\SingleAttacker_Medium_DualDODAG_15.csv\",\n",
    "            r\".\\2-Single_Attacker\\3-Medium_Network_Dual_DODAGs\\SingleAttacker_Medium_DualDODAG_16.csv\",\n",
    "            r\".\\2-Single_Attacker\\3-Medium_Network_Dual_DODAGs\\SingleAttacker_Medium_DualDODAG_17.csv\",\n",
    "            r\".\\2-Single_Attacker\\3-Medium_Network_Dual_DODAGs\\SingleAttacker_Medium_DualDODAG_18.csv\",\n",
    "            r\".\\2-Single_Attacker\\3-Medium_Network_Dual_DODAGs\\SingleAttacker_Medium_DualDODAG_19.csv\",\n",
    "            r\".\\2-Single_Attacker\\3-Medium_Network_Dual_DODAGs\\SingleAttacker_Medium_DualDODAG_20.csv\",\n",
    "            r\".\\2-Single_Attacker\\3-Medium_Network_Dual_DODAGs\\SingleAttacker_Medium_DualDODAG_21.csv\",\n",
    "            r\".\\2-Single_Attacker\\3-Medium_Network_Dual_DODAGs\\SingleAttacker_Medium_DualDODAG_22.csv\",\n",
    "            r\".\\2-Single_Attacker\\3-Medium_Network_Dual_DODAGs\\SingleAttacker_Medium_DualDODAG_23.csv\",\n",
    "            r\".\\2-Single_Attacker\\3-Medium_Network_Dual_DODAGs\\SingleAttacker_Medium_DualDODAG_24.csv\",\n",
    "            r\".\\2-Single_Attacker\\3-Medium_Network_Dual_DODAGs\\SingleAttacker_Medium_DualDODAG_25.csv\",\n",
    "            r\".\\2-Single_Attacker\\3-Medium_Network_Dual_DODAGs\\SingleAttacker_Medium_DualDODAG_26.csv\",\n",
    "            r\".\\3-Dual_Attackers\\1-Small_Network\\DualAttackers_Small_SingleDODAG_5_9.csv\",\n",
    "            r\".\\3-Dual_Attackers\\1-Small_Network\\DualAttackers_Small_SingleDODAG_5_12.csv\",\n",
    "            r\".\\3-Dual_Attackers\\1-Small_Network\\DualAttackers_Small_SingleDODAG_8_2.csv\",\n",
    "            r\".\\3-Dual_Attackers\\1-Small_Network\\DualAttackers_Small_SingleDODAG_11_12.csv\",\n",
    "            r\".\\3-Dual_Attackers\\2-Medium_Network_Single_DODAG\\DualAttackers_Medium_SingleDODAG_2_24.csv\",\n",
    "            r\".\\3-Dual_Attackers\\2-Medium_Network_Single_DODAG\\DualAttackers_Medium_SingleDODAG_3_25.csv\",\n",
    "            ## r\".\\3-Dual_Attackers\\2-Medium_Network_Single_DODAG\\DualAttackers_Medium_SingleDODAG_12_5.csv\",\n",
    "            r\".\\3-Dual_Attackers\\2-Medium_Network_Single_DODAG\\DualAttackers_Medium_SingleDODAG_12_19.csv\",\n",
    "            r\".\\3-Dual_Attackers\\2-Medium_Network_Single_DODAG\\DualAttackers_Medium_SingleDODAG_15_2.csv\",\n",
    "            r\".\\3-Dual_Attackers\\2-Medium_Network_Single_DODAG\\DualAttackers_Medium_SingleDODAG_16_9.csv\",\n",
    "            r\".\\3-Dual_Attackers\\2-Medium_Network_Single_DODAG\\DualAttackers_Medium_SingleDODAG_18_13.csv\",\n",
    "            r\".\\3-Dual_Attackers\\3-Medium_Network_Dual_DODAGs\\DualAttackers_Medium_DualDODAG_7_26.csv\",\n",
    "            r\".\\3-Dual_Attackers\\3-Medium_Network_Dual_DODAGs\\DualAttackers_Medium_DualDODAG_8_19.csv\",\n",
    "            r\".\\3-Dual_Attackers\\3-Medium_Network_Dual_DODAGs\\DualAttackers_Medium_DualDODAG_10_20.csv\",\n",
    "            r\".\\3-Dual_Attackers\\3-Medium_Network_Dual_DODAGs\\DualAttackers_Medium_DualDODAG_12_17.csv\",\n",
    "          ]"
   ]
  },
  {
   "cell_type": "code",
   "execution_count": 4,
   "id": "a58098fd",
   "metadata": {},
   "outputs": [],
   "source": [
    "# Load all CSV files into a list of DataFrames\n",
    "dfs = [pd.read_csv(file) for file in file_paths]"
   ]
  },
  {
   "cell_type": "code",
   "execution_count": 5,
   "id": "35b47fb2",
   "metadata": {},
   "outputs": [],
   "source": [
    "# Concatenate all DataFrames into a single DataFrame\n",
    "data = pd.concat(dfs,ignore_index=True)"
   ]
  },
  {
   "cell_type": "code",
   "execution_count": 6,
   "id": "73785bae-1097-4739-99d9-f6e08ef6a827",
   "metadata": {},
   "outputs": [
    {
     "name": "stdout",
     "output_type": "stream",
     "text": [
      "Dataset Preview:\n",
      "   No.   Time                Source Destination Protocol  Length  Rank  \\\n",
      "0    1  0.000  fe80::212:7405:5:505    ff02::1a   ICMPv6      64   NaN   \n",
      "1    2  0.001  fe80::212:7405:5:505    ff02::1a   ICMPv6      64   NaN   \n",
      "2    3  0.001  fe80::212:7405:5:505    ff02::1a   ICMPv6      64   NaN   \n",
      "3    4  0.001  fe80::212:7405:5:505    ff02::1a   ICMPv6      64   NaN   \n",
      "4    5  0.002  fe80::212:7405:5:505    ff02::1a   ICMPv6      64   NaN   \n",
      "\n",
      "                                           Info  Interval  RDAO  RDIO  SDIO  \\\n",
      "0  RPL Control (DODAG Information Solicitation)         0     0     0     0   \n",
      "1  RPL Control (DODAG Information Solicitation)         0     0     0     0   \n",
      "2  RPL Control (DODAG Information Solicitation)         0     0     0     0   \n",
      "3  RPL Control (DODAG Information Solicitation)         0     0     0     0   \n",
      "4  RPL Control (DODAG Information Solicitation)         0     0     0     0   \n",
      "\n",
      "   SDAO   label  \n",
      "0     0  normal  \n",
      "1     0  normal  \n",
      "2     0  normal  \n",
      "3     0  normal  \n",
      "4     0  normal  \n"
     ]
    }
   ],
   "source": [
    "# Display the first few rows\n",
    "print(\"Dataset Preview:\")\n",
    "print(data.head())\n"
   ]
  },
  {
   "cell_type": "code",
   "execution_count": 7,
   "id": "9ac3ec2c",
   "metadata": {},
   "outputs": [
    {
     "name": "stdout",
     "output_type": "stream",
     "text": [
      "\n",
      "Dataset Info:\n",
      "<class 'pandas.core.frame.DataFrame'>\n",
      "RangeIndex: 1961884 entries, 0 to 1961883\n",
      "Data columns (total 14 columns):\n",
      " #   Column       Dtype  \n",
      "---  ------       -----  \n",
      " 0   No.          int64  \n",
      " 1   Time         float64\n",
      " 2   Source       object \n",
      " 3   Destination  object \n",
      " 4   Protocol     object \n",
      " 5   Length       int64  \n",
      " 6   Rank         float64\n",
      " 7   Info         object \n",
      " 8   Interval     int64  \n",
      " 9   RDAO         int64  \n",
      " 10  RDIO         int64  \n",
      " 11  SDIO         int64  \n",
      " 12  SDAO         int64  \n",
      " 13  label        object \n",
      "dtypes: float64(2), int64(7), object(5)\n",
      "memory usage: 209.6+ MB\n",
      "None\n"
     ]
    }
   ],
   "source": [
    "# Basic dataset information\n",
    "print(\"\\nDataset Info:\")\n",
    "print(data.info())"
   ]
  },
  {
   "cell_type": "code",
   "execution_count": 8,
   "id": "8e46bbcd",
   "metadata": {},
   "outputs": [
    {
     "name": "stdout",
     "output_type": "stream",
     "text": [
      "\n",
      "Missing Values (Before Handling):\n",
      "No.                  0\n",
      "Time                 0\n",
      "Source           51788\n",
      "Destination      51788\n",
      "Protocol             0\n",
      "Length               0\n",
      "Rank           1500984\n",
      "Info                 0\n",
      "Interval             0\n",
      "RDAO                 0\n",
      "RDIO                 0\n",
      "SDIO                 0\n",
      "SDAO                 0\n",
      "label                0\n",
      "dtype: int64\n"
     ]
    }
   ],
   "source": [
    "# Check for missing values\n",
    "print(\"\\nMissing Values (Before Handling):\")\n",
    "print(data.isnull().sum())"
   ]
  },
  {
   "cell_type": "code",
   "execution_count": 9,
   "id": "7c812596",
   "metadata": {},
   "outputs": [
    {
     "data": {
      "text/plain": [
       "pandas.core.series.Series"
      ]
     },
     "execution_count": 9,
     "metadata": {},
     "output_type": "execute_result"
    }
   ],
   "source": [
    "type(data['Destination'])"
   ]
  },
  {
   "cell_type": "code",
   "execution_count": 10,
   "id": "3ba5af96",
   "metadata": {},
   "outputs": [],
   "source": [
    "# Type cast to String type\n",
    "data['Destination'] = data['Destination'].fillna('')\n",
    "data['Source'] = data['Source'].fillna('')\n",
    "data['Rank'] = pd.to_numeric(data['Rank'], errors='coerce')  # ép kiểu sang float, lỗi chuyển thành NaN\n",
    "data['Rank'] = data['Rank'].fillna(0)\n",
    "data['Protocol'] = data['Protocol'].astype('string')\n",
    "data['Info'] = data['Info'].astype('string')"
   ]
  },
  {
   "cell_type": "code",
   "execution_count": 11,
   "id": "5d477a16",
   "metadata": {},
   "outputs": [
    {
     "name": "stdout",
     "output_type": "stream",
     "text": [
      "Info\n",
      "Ack                                                 51788\n",
      "RPL Control (DODAG Information Object)             460900\n",
      "RPL Control (DODAG Information Solicitation)        31572\n",
      "RPL Control (Destination Advertisement Object)    1188362\n",
      "Source port: 8775  Destination port: ggz           229233\n",
      "Unknown (17)                                           29\n",
      "Name: count, dtype: Int64\n"
     ]
    }
   ],
   "source": [
    "print(data['Info'].value_counts().sort_index())"
   ]
  },
  {
   "cell_type": "code",
   "execution_count": 12,
   "id": "a2e6ea1c",
   "metadata": {},
   "outputs": [
    {
     "data": {
      "text/plain": [
       "label               2\n",
       "Protocol            3\n",
       "Info                6\n",
       "Length              8\n",
       "Destination        29\n",
       "Source             51\n",
       "SDIO               67\n",
       "SDAO              118\n",
       "RDIO              138\n",
       "RDAO              146\n",
       "Interval         1011\n",
       "Rank             1613\n",
       "No.             63459\n",
       "Time           360850\n",
       "dtype: int64"
      ]
     },
     "execution_count": 12,
     "metadata": {},
     "output_type": "execute_result"
    }
   ],
   "source": [
    "data.nunique().sort_values()"
   ]
  },
  {
   "cell_type": "code",
   "execution_count": 13,
   "id": "eb306abf",
   "metadata": {},
   "outputs": [
    {
     "name": "stdout",
     "output_type": "stream",
     "text": [
      "[ 0  1  2  3  4  5  6  7  8  9 10 11 12 13 14 15 16 17 18 19 20 21 22 23\n",
      " 24 25 26 27 28 29 30 31 32 33 34 35 36 37 38 39 40 41 42 43 44 45 46 47\n",
      " 48 49 50 51 52 53 54 55 56 57 58 59 60 61 62 65 73 74 75]\n"
     ]
    }
   ],
   "source": [
    "print(data['SDIO'].sort_values().unique())"
   ]
  },
  {
   "cell_type": "code",
   "execution_count": 14,
   "id": "b2d65e0e",
   "metadata": {},
   "outputs": [
    {
     "name": "stdout",
     "output_type": "stream",
     "text": [
      "[   0.  256.  768. ... 2108. 1421. 1443.]\n",
      "float64\n"
     ]
    }
   ],
   "source": [
    "print(data['Rank'].unique())\n",
    "print(data['Rank'].dtype)"
   ]
  },
  {
   "cell_type": "code",
   "execution_count": 15,
   "id": "90a2364f",
   "metadata": {},
   "outputs": [
    {
     "name": "stdout",
     "output_type": "stream",
     "text": [
      "['' '2002:db8::1' 'fe80::212:7401:1:101' 'fe80::212:7402:2:202'\n",
      " 'fe80::212:7403:3:303' 'fe80::212:7404:4:404' 'fe80::212:7405:5:505'\n",
      " 'fe80::212:7406:6:606' 'fe80::212:7407:7:707' 'fe80::212:7408:8:808'\n",
      " 'fe80::212:7409:9:909' 'fe80::212:740a:a:a0a' 'fe80::212:740b:b:b0b'\n",
      " 'fe80::212:740c:c:c0c' 'fe80::212:740d:d:d0d' 'fe80::212:740e:e:e0e'\n",
      " 'fe80::212:740f:f:f0f' 'fe80::212:7410:10:1010' 'fe80::212:7411:11:1111'\n",
      " 'fe80::212:7412:12:1212' 'fe80::212:7413:13:1313'\n",
      " 'fe80::212:7414:14:1414' 'fe80::212:7415:15:1515'\n",
      " 'fe80::212:7416:16:1616' 'fe80::212:7417:17:1717'\n",
      " 'fe80::212:7418:18:1818' 'fe80::212:7419:19:1919'\n",
      " 'fe80::212:741a:1a:1a1a' 'ff02::1a']\n",
      "\n"
     ]
    },
    {
     "data": {
      "text/plain": [
       "str"
      ]
     },
     "execution_count": 15,
     "metadata": {},
     "output_type": "execute_result"
    }
   ],
   "source": [
    "print(data['Destination'].sort_values().unique())\n",
    "print(data['Destination'][292])\n",
    "type(data['Destination'][292])"
   ]
  },
  {
   "cell_type": "code",
   "execution_count": 16,
   "id": "6a12f1a3",
   "metadata": {},
   "outputs": [
    {
     "name": "stdout",
     "output_type": "stream",
     "text": [
      "<StringArray>\n",
      "['ICMPv6', 'IEEE 802.15.4', 'UDP']\n",
      "Length: 3, dtype: string\n"
     ]
    },
    {
     "data": {
      "text/plain": [
       "string[python]"
      ]
     },
     "execution_count": 16,
     "metadata": {},
     "output_type": "execute_result"
    }
   ],
   "source": [
    "print(data['Protocol'].sort_values().unique())\n",
    "data['Protocol'].dtype"
   ]
  },
  {
   "cell_type": "code",
   "execution_count": 17,
   "id": "943963bf",
   "metadata": {},
   "outputs": [
    {
     "name": "stdout",
     "output_type": "stream",
     "text": [
      "[  5  60  64  76  97  98 102 106]\n",
      "5\n"
     ]
    },
    {
     "data": {
      "text/plain": [
       "dtype('int64')"
      ]
     },
     "execution_count": 17,
     "metadata": {},
     "output_type": "execute_result"
    }
   ],
   "source": [
    "print(data['Length'].sort_values().unique())\n",
    "print(data['Length'][292])\n",
    "data['Length'].dtype"
   ]
  },
  {
   "cell_type": "code",
   "execution_count": 18,
   "id": "8be560d1",
   "metadata": {},
   "outputs": [
    {
     "name": "stdout",
     "output_type": "stream",
     "text": [
      "Rank\n",
      "0.0        1500984\n",
      "256.0        25652\n",
      "512.0        54273\n",
      "513.0          363\n",
      "514.0          341\n",
      "            ...   \n",
      "4266.0          29\n",
      "4428.0          29\n",
      "4454.0          29\n",
      "4633.0          29\n",
      "65535.0       1711\n",
      "Name: count, Length: 1613, dtype: int64\n"
     ]
    }
   ],
   "source": [
    "print(data['Rank'].value_counts().sort_index())"
   ]
  },
  {
   "cell_type": "code",
   "execution_count": 19,
   "id": "b72a515f",
   "metadata": {},
   "outputs": [
    {
     "name": "stdout",
     "output_type": "stream",
     "text": [
      "Source\n",
      "                              51788\n",
      "2002:db8::212:7402:2:202       5141\n",
      "2002:db8::212:7403:3:303       5194\n",
      "2002:db8::212:7404:4:404       7006\n",
      "2002:db8::212:7405:5:505      15041\n",
      "2002:db8::212:7406:6:606       4296\n",
      "2002:db8::212:7407:7:707      14373\n",
      "2002:db8::212:7408:8:808       9548\n",
      "2002:db8::212:7409:9:909      10707\n",
      "2002:db8::212:740a:a:a0a       8760\n",
      "2002:db8::212:740b:b:b0b      10830\n",
      "2002:db8::212:740c:c:c0c      12533\n",
      "2002:db8::212:740d:d:d0d      16108\n",
      "2002:db8::212:740f:f:f0f       1177\n",
      "2002:db8::212:7410:10:1010     5195\n",
      "2002:db8::212:7411:11:1111     2614\n",
      "2002:db8::212:7412:12:1212     9767\n",
      "2002:db8::212:7413:13:1313    10429\n",
      "2002:db8::212:7414:14:1414    13866\n",
      "2002:db8::212:7415:15:1515    14144\n",
      "2002:db8::212:7416:16:1616    10656\n",
      "2002:db8::212:7417:17:1717    11042\n",
      "2002:db8::212:7418:18:1818     8579\n",
      "2002:db8::212:7419:19:1919     8623\n",
      "2002:db8::212:741a:1a:1a1a    13604\n",
      "fe80::212:7401:1:101          12319\n",
      "fe80::212:7402:2:202          90430\n",
      "fe80::212:7403:3:303          85839\n",
      "fe80::212:7404:4:404          78917\n",
      "fe80::212:7405:5:505          84512\n",
      "fe80::212:7406:6:606          40580\n",
      "fe80::212:7407:7:707          76534\n",
      "fe80::212:7408:8:808          83218\n",
      "fe80::212:7409:9:909          77852\n",
      "fe80::212:740a:a:a0a          60888\n",
      "fe80::212:740b:b:b0b          74212\n",
      "fe80::212:740c:c:c0c          75453\n",
      "fe80::212:740d:d:d0d          64248\n",
      "fe80::212:740e:e:e0e           5376\n",
      "fe80::212:740f:f:f0f          34881\n",
      "fe80::212:7410:10:1010        61938\n",
      "fe80::212:7411:11:1111        43807\n",
      "fe80::212:7412:12:1212        79549\n",
      "fe80::212:7413:13:1313        74363\n",
      "fe80::212:7414:14:1414        54067\n",
      "fe80::212:7415:15:1515        73443\n",
      "fe80::212:7416:16:1616        66007\n",
      "fe80::212:7417:17:1717        69772\n",
      "fe80::212:7418:18:1818        80408\n",
      "fe80::212:7419:19:1919        72361\n",
      "fe80::212:741a:1a:1a1a        59889\n",
      "Name: count, dtype: int64\n"
     ]
    }
   ],
   "source": [
    "print(data['Source'].value_counts().sort_index())"
   ]
  },
  {
   "cell_type": "code",
   "execution_count": 20,
   "id": "852671c9",
   "metadata": {},
   "outputs": [
    {
     "name": "stdout",
     "output_type": "stream",
     "text": [
      "Protocol\n",
      "ICMPv6           1680863\n",
      "IEEE 802.15.4      51788\n",
      "UDP               229233\n",
      "Name: count, dtype: Int64\n"
     ]
    }
   ],
   "source": [
    "print(data['Protocol'].value_counts().sort_index())"
   ]
  },
  {
   "cell_type": "code",
   "execution_count": 21,
   "id": "48f30db9",
   "metadata": {},
   "outputs": [
    {
     "name": "stdout",
     "output_type": "stream",
     "text": [
      "Info\n",
      "Ack                                                 51788\n",
      "RPL Control (DODAG Information Object)             460900\n",
      "RPL Control (DODAG Information Solicitation)        31572\n",
      "RPL Control (Destination Advertisement Object)    1188362\n",
      "Source port: 8775  Destination port: ggz           229233\n",
      "Unknown (17)                                           29\n",
      "Name: count, dtype: Int64\n"
     ]
    }
   ],
   "source": [
    "print(data['Info'].value_counts().sort_index())"
   ]
  },
  {
   "cell_type": "code",
   "execution_count": 22,
   "id": "bc2b7a6b",
   "metadata": {},
   "outputs": [
    {
     "name": "stdout",
     "output_type": "stream",
     "text": [
      "Rank\n",
      "0.0        1500984\n",
      "256.0        25652\n",
      "512.0        54273\n",
      "513.0          363\n",
      "514.0          341\n",
      "            ...   \n",
      "4266.0          29\n",
      "4428.0          29\n",
      "4454.0          29\n",
      "4633.0          29\n",
      "65535.0       1711\n",
      "Name: count, Length: 1613, dtype: int64\n"
     ]
    }
   ],
   "source": [
    "print(data['Rank'].value_counts().sort_index())"
   ]
  },
  {
   "cell_type": "code",
   "execution_count": 23,
   "id": "584b8534",
   "metadata": {},
   "outputs": [],
   "source": [
    "import tensorflow as tf\n",
    "from tensorflow.keras import layers\n",
    "from tensorflow.keras import metrics"
   ]
  },
  {
   "cell_type": "code",
   "execution_count": 24,
   "id": "36510022",
   "metadata": {},
   "outputs": [],
   "source": [
    "source_lookup = tf.keras.layers.StringLookup(output_mode='int')\n",
    "destination_lookup = tf.keras.layers.StringLookup(output_mode='int')\n",
    "info_lookup = tf.keras.layers.StringLookup(output_mode='int')\n",
    "length_lookup = tf.keras.layers.IntegerLookup(output_mode='int')\n",
    "protocol_lookup = tf.keras.layers.StringLookup(output_mode='int')\n",
    "\n",
    "source_lookup.adapt(data['Source'].astype(str))\n",
    "destination_lookup.adapt(data['Destination'].astype(str))\n",
    "info_lookup.adapt(data['Info'])\n",
    "length_lookup.adapt(data['Length'])\n",
    "protocol_lookup.adapt(data['Protocol'])\n",
    "\n"
   ]
  },
  {
   "cell_type": "code",
   "execution_count": 25,
   "id": "83f3ee2d",
   "metadata": {},
   "outputs": [],
   "source": [
    "layers_embedding_dim = 32\n",
    "\n",
    "source_embedding_layer = layers.Embedding(input_dim=source_lookup.vocabulary_size(), output_dim= layers_embedding_dim)\n",
    "source_input = tf.keras.Input(shape=(1,), dtype=tf.string, name='Source')\n",
    "source_index = source_lookup(source_input)\n",
    "source_embedding = source_embedding_layer(source_index)\n",
    "\n",
    "destination_embedding_layer = layers.Embedding(input_dim=destination_lookup.vocabulary_size(), output_dim= layers_embedding_dim)\n",
    "destination_input = tf.keras.Input(shape=(1,), dtype=tf.string, name= 'Destination')\n",
    "destination_index = destination_lookup(destination_input)\n",
    "destination_embedding = destination_embedding_layer(destination_index)\n",
    "\n",
    "info_embedding_layer = layers.Embedding(input_dim=info_lookup.vocabulary_size(), output_dim= layers_embedding_dim)\n",
    "info_input = tf.keras.Input(shape=(1,), dtype=tf.string, name='Info')\n",
    "info_index = info_lookup(info_input)\n",
    "info_embedding = info_embedding_layer(info_index)\n",
    "\n",
    "length_embedding_layer = layers.Embedding(input_dim=length_lookup.vocabulary_size(), output_dim= layers_embedding_dim)\n",
    "length_input = tf.keras.Input(shape=(1,), dtype=tf.int64, name='Length')\n",
    "length_index = length_lookup(length_input)\n",
    "length_embedding = length_embedding_layer(length_index)\n",
    "\n",
    "protocol_embedding_layer = layers.Embedding(input_dim=protocol_lookup.vocabulary_size(), output_dim= layers_embedding_dim)\n",
    "protocol_input = tf.keras.Input(shape=(1,), dtype=tf.string, name='Protocol')\n",
    "protocol_index = protocol_lookup(protocol_input)\n",
    "protocol_embedding = protocol_embedding_layer(protocol_index)"
   ]
  },
  {
   "cell_type": "code",
   "execution_count": 26,
   "id": "e4beb03e",
   "metadata": {},
   "outputs": [],
   "source": [
    "def build_float_numerical_feature_pipeline(feature_name, numerical_vector_dim, data):\n",
    "    \"\"\"\n",
    "    Tạo pipeline xử lý feature numerical:\n",
    "    1. Normalization\n",
    "    2. Dense\n",
    "    3. Reshape\n",
    "    \"\"\"\n",
    "    # Normalization layer\n",
    "    norm_layer = tf.keras.layers.Normalization()\n",
    "    norm_layer.adapt(data[feature_name].values.reshape(-1, 1))\n",
    "\n",
    "    # Input cho feature\n",
    "    feature_input = tf.keras.Input(shape=(1,), dtype=tf.float64, name=feature_name)\n",
    "\n",
    "    # Normalize\n",
    "    norm = norm_layer(feature_input)\n",
    "\n",
    "    # Dense projection\n",
    "    feature_vector = layers.Dense(numerical_vector_dim)(norm)\n",
    "\n",
    "    # Reshape  (1, numerical_vector_dim) to concat with features\n",
    "    feature_vector = layers.Reshape((1, numerical_vector_dim))(feature_vector)\n",
    "\n",
    "    return feature_input, feature_vector\n",
    "\n",
    "def build_int_numerical_feature_pipeline(feature_name, numerical_vector_dim, data):\n",
    "    \"\"\"\n",
    "    Tạo pipeline xử lý feature numerical:\n",
    "    1. Normalization\n",
    "    2. Dense\n",
    "    3. Reshape\n",
    "    \"\"\"\n",
    "    # Normalization layer\n",
    "    norm_layer = tf.keras.layers.Normalization()\n",
    "    norm_layer.adapt(data[feature_name].values.reshape(-1, 1))\n",
    "\n",
    "    # Input cho feature\n",
    "    feature_input = tf.keras.Input(shape=(1,), dtype=tf.int64, name=feature_name)\n",
    "\n",
    "    # Normalize\n",
    "    norm = norm_layer(feature_input)\n",
    "\n",
    "    # Dense projection\n",
    "    feature_vector = layers.Dense(numerical_vector_dim)(norm)\n",
    "\n",
    "    # Reshape  (1, numerical_vector_dim) to concat with features\n",
    "    feature_vector = layers.Reshape((1, numerical_vector_dim))(feature_vector)\n",
    "\n",
    "    return feature_input, feature_vector"
   ]
  },
  {
   "cell_type": "code",
   "execution_count": 27,
   "id": "bab0f068",
   "metadata": {},
   "outputs": [],
   "source": [
    "# Numerical -> Vector\n",
    "numerical_vector_dim = 32\n",
    "time_input, time_vector = build_float_numerical_feature_pipeline('Time', numerical_vector_dim, data)\n",
    "rank_input, rank_vector = build_int_numerical_feature_pipeline('Rank', numerical_vector_dim, data)\n",
    "interval_input, interval_vector = build_int_numerical_feature_pipeline('Interval', numerical_vector_dim, data)\n",
    "rdao_input, rdao_vector = build_int_numerical_feature_pipeline('RDAO', numerical_vector_dim, data)\n",
    "rdio_input, rdio_vector = build_int_numerical_feature_pipeline('RDIO', numerical_vector_dim, data)\n",
    "sdio_input, sdio_vector = build_int_numerical_feature_pipeline('SDIO', numerical_vector_dim, data)\n",
    "sdao_input, sdao_vector = build_int_numerical_feature_pipeline('SDAO', numerical_vector_dim, data)"
   ]
  },
  {
   "cell_type": "code",
   "execution_count": 28,
   "id": "bdf8d912",
   "metadata": {},
   "outputs": [
    {
     "name": "stdout",
     "output_type": "stream",
     "text": [
      "(None, 1, 32)\n",
      "(None, 1, 32)\n"
     ]
    }
   ],
   "source": [
    "print(rdao_vector.shape)\n",
    "print(interval_vector.shape)"
   ]
  },
  {
   "cell_type": "code",
   "execution_count": 29,
   "id": "7b9dbce5",
   "metadata": {},
   "outputs": [
    {
     "name": "stdout",
     "output_type": "stream",
     "text": [
      "(None, 12, 32)\n"
     ]
    }
   ],
   "source": [
    "concatenated = layers.Concatenate(axis=1)([time_vector, \n",
    "                                           source_embedding, \n",
    "                                           destination_embedding, \n",
    "                                           protocol_embedding,\n",
    "                                           length_embedding, \n",
    "                                           rank_vector,\n",
    "                                           info_embedding,\n",
    "                                           interval_vector,\n",
    "                                           rdao_vector,\n",
    "                                           rdio_vector,\n",
    "                                           sdio_vector,\n",
    "                                           sdao_vector,\n",
    "                                           ])\n",
    "print(concatenated.shape)"
   ]
  },
  {
   "cell_type": "code",
   "execution_count": 30,
   "id": "2190c93c",
   "metadata": {},
   "outputs": [],
   "source": [
    "def transformer_block(x, num_heads=4, key_dim=8, ff_dim=64, dropout=0.1):\n",
    "    # Multi-head attention\n",
    "    attn_output = tf.keras.layers.MultiHeadAttention(num_heads=num_heads,\n",
    "                                                      key_dim=key_dim)(x, x)\n",
    "    attn_output = tf.keras.layers.Dropout(dropout)(attn_output)\n",
    "    out1 = tf.keras.layers.LayerNormalization(epsilon=1e-6)(x + attn_output)\n",
    "\n",
    "    # Feed-forward layer\n",
    "    ffn = tf.keras.Sequential([\n",
    "        tf.keras.layers.Dense(ff_dim, activation=\"relu\"),\n",
    "        tf.keras.layers.Dense(x.shape[-1]),\n",
    "    ])\n",
    "    ffn_output = ffn(out1)\n",
    "    ffn_output = tf.keras.layers.Dropout(dropout)(ffn_output)\n",
    "    return tf.keras.layers.LayerNormalization(epsilon=1e-6)(out1 + ffn_output)"
   ]
  },
  {
   "cell_type": "code",
   "execution_count": 31,
   "id": "0de7d994",
   "metadata": {},
   "outputs": [],
   "source": [
    "x = transformer_block(concatenated)\n",
    "x = transformer_block(x)\n",
    "x = tf.keras.layers.GlobalAveragePooling1D()(x)\n",
    "output = layers.Dense(1, activation='sigmoid')(x)"
   ]
  },
  {
   "cell_type": "code",
   "execution_count": 32,
   "id": "ca90c7d8",
   "metadata": {},
   "outputs": [],
   "source": [
    "inputs=[    \n",
    "    time_input, \n",
    "    source_input, \n",
    "    destination_input, \n",
    "    protocol_input, \n",
    "    length_input,\n",
    "    rank_input,\n",
    "    info_input,\n",
    "    interval_input,\n",
    "    rdao_input,\n",
    "    rdio_input,\n",
    "    sdio_input,\n",
    "    sdao_input\n",
    "    ]\n",
    "model = tf.keras.Model(inputs=inputs, outputs=output)\n",
    "model.compile(optimizer='adam', loss='binary_crossentropy', metrics=['accuracy', metrics.Precision(name='precision'), metrics.Recall(name='recall')])\n"
   ]
  },
  {
   "cell_type": "code",
   "execution_count": 33,
   "id": "670a9695",
   "metadata": {},
   "outputs": [
    {
     "data": {
      "text/plain": [
       "[<KerasTensor shape=(None, 1), dtype=float64, sparse=False, ragged=False, name=Time>,\n",
       " <KerasTensor shape=(None, 1), dtype=string, sparse=False, ragged=False, name=Source>,\n",
       " <KerasTensor shape=(None, 1), dtype=string, sparse=False, ragged=False, name=Destination>,\n",
       " <KerasTensor shape=(None, 1), dtype=string, sparse=False, ragged=False, name=Protocol>,\n",
       " <KerasTensor shape=(None, 1), dtype=int64, sparse=False, ragged=False, name=Length>,\n",
       " <KerasTensor shape=(None, 1), dtype=int64, sparse=False, ragged=False, name=Rank>,\n",
       " <KerasTensor shape=(None, 1), dtype=string, sparse=False, ragged=False, name=Info>,\n",
       " <KerasTensor shape=(None, 1), dtype=int64, sparse=False, ragged=False, name=Interval>,\n",
       " <KerasTensor shape=(None, 1), dtype=int64, sparse=False, ragged=False, name=RDAO>,\n",
       " <KerasTensor shape=(None, 1), dtype=int64, sparse=False, ragged=False, name=RDIO>,\n",
       " <KerasTensor shape=(None, 1), dtype=int64, sparse=False, ragged=False, name=SDIO>,\n",
       " <KerasTensor shape=(None, 1), dtype=int64, sparse=False, ragged=False, name=SDAO>]"
      ]
     },
     "execution_count": 33,
     "metadata": {},
     "output_type": "execute_result"
    }
   ],
   "source": [
    "model.input"
   ]
  },
  {
   "cell_type": "code",
   "execution_count": 34,
   "id": "dcf1ffc2",
   "metadata": {},
   "outputs": [
    {
     "data": {
      "text/html": [
       "<pre style=\"white-space:pre;overflow-x:auto;line-height:normal;font-family:Menlo,'DejaVu Sans Mono',consolas,'Courier New',monospace\"><span style=\"font-weight: bold\">Model: \"functional_2\"</span>\n",
       "</pre>\n"
      ],
      "text/plain": [
       "\u001b[1mModel: \"functional_2\"\u001b[0m\n"
      ]
     },
     "metadata": {},
     "output_type": "display_data"
    },
    {
     "data": {
      "text/html": [
       "<pre style=\"white-space:pre;overflow-x:auto;line-height:normal;font-family:Menlo,'DejaVu Sans Mono',consolas,'Courier New',monospace\">┏━━━━━━━━━━━━━━━━━━━━━┳━━━━━━━━━━━━━━━━━━━┳━━━━━━━━━━━━┳━━━━━━━━━━━━━━━━━━━┓\n",
       "┃<span style=\"font-weight: bold\"> Layer (type)        </span>┃<span style=\"font-weight: bold\"> Output Shape      </span>┃<span style=\"font-weight: bold\">    Param # </span>┃<span style=\"font-weight: bold\"> Connected to      </span>┃\n",
       "┡━━━━━━━━━━━━━━━━━━━━━╇━━━━━━━━━━━━━━━━━━━╇━━━━━━━━━━━━╇━━━━━━━━━━━━━━━━━━━┩\n",
       "│ Time (<span style=\"color: #0087ff; text-decoration-color: #0087ff\">InputLayer</span>)   │ (<span style=\"color: #00d7ff; text-decoration-color: #00d7ff\">None</span>, <span style=\"color: #00af00; text-decoration-color: #00af00\">1</span>)         │          <span style=\"color: #00af00; text-decoration-color: #00af00\">0</span> │ -                 │\n",
       "├─────────────────────┼───────────────────┼────────────┼───────────────────┤\n",
       "│ Rank (<span style=\"color: #0087ff; text-decoration-color: #0087ff\">InputLayer</span>)   │ (<span style=\"color: #00d7ff; text-decoration-color: #00d7ff\">None</span>, <span style=\"color: #00af00; text-decoration-color: #00af00\">1</span>)         │          <span style=\"color: #00af00; text-decoration-color: #00af00\">0</span> │ -                 │\n",
       "├─────────────────────┼───────────────────┼────────────┼───────────────────┤\n",
       "│ Interval            │ (<span style=\"color: #00d7ff; text-decoration-color: #00d7ff\">None</span>, <span style=\"color: #00af00; text-decoration-color: #00af00\">1</span>)         │          <span style=\"color: #00af00; text-decoration-color: #00af00\">0</span> │ -                 │\n",
       "│ (<span style=\"color: #0087ff; text-decoration-color: #0087ff\">InputLayer</span>)        │                   │            │                   │\n",
       "├─────────────────────┼───────────────────┼────────────┼───────────────────┤\n",
       "│ RDAO (<span style=\"color: #0087ff; text-decoration-color: #0087ff\">InputLayer</span>)   │ (<span style=\"color: #00d7ff; text-decoration-color: #00d7ff\">None</span>, <span style=\"color: #00af00; text-decoration-color: #00af00\">1</span>)         │          <span style=\"color: #00af00; text-decoration-color: #00af00\">0</span> │ -                 │\n",
       "├─────────────────────┼───────────────────┼────────────┼───────────────────┤\n",
       "│ RDIO (<span style=\"color: #0087ff; text-decoration-color: #0087ff\">InputLayer</span>)   │ (<span style=\"color: #00d7ff; text-decoration-color: #00d7ff\">None</span>, <span style=\"color: #00af00; text-decoration-color: #00af00\">1</span>)         │          <span style=\"color: #00af00; text-decoration-color: #00af00\">0</span> │ -                 │\n",
       "├─────────────────────┼───────────────────┼────────────┼───────────────────┤\n",
       "│ SDIO (<span style=\"color: #0087ff; text-decoration-color: #0087ff\">InputLayer</span>)   │ (<span style=\"color: #00d7ff; text-decoration-color: #00d7ff\">None</span>, <span style=\"color: #00af00; text-decoration-color: #00af00\">1</span>)         │          <span style=\"color: #00af00; text-decoration-color: #00af00\">0</span> │ -                 │\n",
       "├─────────────────────┼───────────────────┼────────────┼───────────────────┤\n",
       "│ SDAO (<span style=\"color: #0087ff; text-decoration-color: #0087ff\">InputLayer</span>)   │ (<span style=\"color: #00d7ff; text-decoration-color: #00d7ff\">None</span>, <span style=\"color: #00af00; text-decoration-color: #00af00\">1</span>)         │          <span style=\"color: #00af00; text-decoration-color: #00af00\">0</span> │ -                 │\n",
       "├─────────────────────┼───────────────────┼────────────┼───────────────────┤\n",
       "│ normalization       │ (<span style=\"color: #00d7ff; text-decoration-color: #00d7ff\">None</span>, <span style=\"color: #00af00; text-decoration-color: #00af00\">1</span>)         │          <span style=\"color: #00af00; text-decoration-color: #00af00\">3</span> │ Time[<span style=\"color: #00af00; text-decoration-color: #00af00\">0</span>][<span style=\"color: #00af00; text-decoration-color: #00af00\">0</span>]        │\n",
       "│ (<span style=\"color: #0087ff; text-decoration-color: #0087ff\">Normalization</span>)     │                   │            │                   │\n",
       "├─────────────────────┼───────────────────┼────────────┼───────────────────┤\n",
       "│ Source (<span style=\"color: #0087ff; text-decoration-color: #0087ff\">InputLayer</span>) │ (<span style=\"color: #00d7ff; text-decoration-color: #00d7ff\">None</span>, <span style=\"color: #00af00; text-decoration-color: #00af00\">1</span>)         │          <span style=\"color: #00af00; text-decoration-color: #00af00\">0</span> │ -                 │\n",
       "├─────────────────────┼───────────────────┼────────────┼───────────────────┤\n",
       "│ Destination         │ (<span style=\"color: #00d7ff; text-decoration-color: #00d7ff\">None</span>, <span style=\"color: #00af00; text-decoration-color: #00af00\">1</span>)         │          <span style=\"color: #00af00; text-decoration-color: #00af00\">0</span> │ -                 │\n",
       "│ (<span style=\"color: #0087ff; text-decoration-color: #0087ff\">InputLayer</span>)        │                   │            │                   │\n",
       "├─────────────────────┼───────────────────┼────────────┼───────────────────┤\n",
       "│ Protocol            │ (<span style=\"color: #00d7ff; text-decoration-color: #00d7ff\">None</span>, <span style=\"color: #00af00; text-decoration-color: #00af00\">1</span>)         │          <span style=\"color: #00af00; text-decoration-color: #00af00\">0</span> │ -                 │\n",
       "│ (<span style=\"color: #0087ff; text-decoration-color: #0087ff\">InputLayer</span>)        │                   │            │                   │\n",
       "├─────────────────────┼───────────────────┼────────────┼───────────────────┤\n",
       "│ Length (<span style=\"color: #0087ff; text-decoration-color: #0087ff\">InputLayer</span>) │ (<span style=\"color: #00d7ff; text-decoration-color: #00d7ff\">None</span>, <span style=\"color: #00af00; text-decoration-color: #00af00\">1</span>)         │          <span style=\"color: #00af00; text-decoration-color: #00af00\">0</span> │ -                 │\n",
       "├─────────────────────┼───────────────────┼────────────┼───────────────────┤\n",
       "│ normalization_1     │ (<span style=\"color: #00d7ff; text-decoration-color: #00d7ff\">None</span>, <span style=\"color: #00af00; text-decoration-color: #00af00\">1</span>)         │          <span style=\"color: #00af00; text-decoration-color: #00af00\">3</span> │ Rank[<span style=\"color: #00af00; text-decoration-color: #00af00\">0</span>][<span style=\"color: #00af00; text-decoration-color: #00af00\">0</span>]        │\n",
       "│ (<span style=\"color: #0087ff; text-decoration-color: #0087ff\">Normalization</span>)     │                   │            │                   │\n",
       "├─────────────────────┼───────────────────┼────────────┼───────────────────┤\n",
       "│ Info (<span style=\"color: #0087ff; text-decoration-color: #0087ff\">InputLayer</span>)   │ (<span style=\"color: #00d7ff; text-decoration-color: #00d7ff\">None</span>, <span style=\"color: #00af00; text-decoration-color: #00af00\">1</span>)         │          <span style=\"color: #00af00; text-decoration-color: #00af00\">0</span> │ -                 │\n",
       "├─────────────────────┼───────────────────┼────────────┼───────────────────┤\n",
       "│ normalization_2     │ (<span style=\"color: #00d7ff; text-decoration-color: #00d7ff\">None</span>, <span style=\"color: #00af00; text-decoration-color: #00af00\">1</span>)         │          <span style=\"color: #00af00; text-decoration-color: #00af00\">3</span> │ Interval[<span style=\"color: #00af00; text-decoration-color: #00af00\">0</span>][<span style=\"color: #00af00; text-decoration-color: #00af00\">0</span>]    │\n",
       "│ (<span style=\"color: #0087ff; text-decoration-color: #0087ff\">Normalization</span>)     │                   │            │                   │\n",
       "├─────────────────────┼───────────────────┼────────────┼───────────────────┤\n",
       "│ normalization_3     │ (<span style=\"color: #00d7ff; text-decoration-color: #00d7ff\">None</span>, <span style=\"color: #00af00; text-decoration-color: #00af00\">1</span>)         │          <span style=\"color: #00af00; text-decoration-color: #00af00\">3</span> │ RDAO[<span style=\"color: #00af00; text-decoration-color: #00af00\">0</span>][<span style=\"color: #00af00; text-decoration-color: #00af00\">0</span>]        │\n",
       "│ (<span style=\"color: #0087ff; text-decoration-color: #0087ff\">Normalization</span>)     │                   │            │                   │\n",
       "├─────────────────────┼───────────────────┼────────────┼───────────────────┤\n",
       "│ normalization_4     │ (<span style=\"color: #00d7ff; text-decoration-color: #00d7ff\">None</span>, <span style=\"color: #00af00; text-decoration-color: #00af00\">1</span>)         │          <span style=\"color: #00af00; text-decoration-color: #00af00\">3</span> │ RDIO[<span style=\"color: #00af00; text-decoration-color: #00af00\">0</span>][<span style=\"color: #00af00; text-decoration-color: #00af00\">0</span>]        │\n",
       "│ (<span style=\"color: #0087ff; text-decoration-color: #0087ff\">Normalization</span>)     │                   │            │                   │\n",
       "├─────────────────────┼───────────────────┼────────────┼───────────────────┤\n",
       "│ normalization_5     │ (<span style=\"color: #00d7ff; text-decoration-color: #00d7ff\">None</span>, <span style=\"color: #00af00; text-decoration-color: #00af00\">1</span>)         │          <span style=\"color: #00af00; text-decoration-color: #00af00\">3</span> │ SDIO[<span style=\"color: #00af00; text-decoration-color: #00af00\">0</span>][<span style=\"color: #00af00; text-decoration-color: #00af00\">0</span>]        │\n",
       "│ (<span style=\"color: #0087ff; text-decoration-color: #0087ff\">Normalization</span>)     │                   │            │                   │\n",
       "├─────────────────────┼───────────────────┼────────────┼───────────────────┤\n",
       "│ normalization_6     │ (<span style=\"color: #00d7ff; text-decoration-color: #00d7ff\">None</span>, <span style=\"color: #00af00; text-decoration-color: #00af00\">1</span>)         │          <span style=\"color: #00af00; text-decoration-color: #00af00\">3</span> │ SDAO[<span style=\"color: #00af00; text-decoration-color: #00af00\">0</span>][<span style=\"color: #00af00; text-decoration-color: #00af00\">0</span>]        │\n",
       "│ (<span style=\"color: #0087ff; text-decoration-color: #0087ff\">Normalization</span>)     │                   │            │                   │\n",
       "├─────────────────────┼───────────────────┼────────────┼───────────────────┤\n",
       "│ dense (<span style=\"color: #0087ff; text-decoration-color: #0087ff\">Dense</span>)       │ (<span style=\"color: #00d7ff; text-decoration-color: #00d7ff\">None</span>, <span style=\"color: #00af00; text-decoration-color: #00af00\">32</span>)        │         <span style=\"color: #00af00; text-decoration-color: #00af00\">64</span> │ normalization[<span style=\"color: #00af00; text-decoration-color: #00af00\">0</span>]… │\n",
       "├─────────────────────┼───────────────────┼────────────┼───────────────────┤\n",
       "│ string_lookup       │ (<span style=\"color: #00d7ff; text-decoration-color: #00d7ff\">None</span>, <span style=\"color: #00af00; text-decoration-color: #00af00\">1</span>)         │          <span style=\"color: #00af00; text-decoration-color: #00af00\">0</span> │ Source[<span style=\"color: #00af00; text-decoration-color: #00af00\">0</span>][<span style=\"color: #00af00; text-decoration-color: #00af00\">0</span>]      │\n",
       "│ (<span style=\"color: #0087ff; text-decoration-color: #0087ff\">StringLookup</span>)      │                   │            │                   │\n",
       "├─────────────────────┼───────────────────┼────────────┼───────────────────┤\n",
       "│ string_lookup_1     │ (<span style=\"color: #00d7ff; text-decoration-color: #00d7ff\">None</span>, <span style=\"color: #00af00; text-decoration-color: #00af00\">1</span>)         │          <span style=\"color: #00af00; text-decoration-color: #00af00\">0</span> │ Destination[<span style=\"color: #00af00; text-decoration-color: #00af00\">0</span>][<span style=\"color: #00af00; text-decoration-color: #00af00\">0</span>] │\n",
       "│ (<span style=\"color: #0087ff; text-decoration-color: #0087ff\">StringLookup</span>)      │                   │            │                   │\n",
       "├─────────────────────┼───────────────────┼────────────┼───────────────────┤\n",
       "│ string_lookup_3     │ (<span style=\"color: #00d7ff; text-decoration-color: #00d7ff\">None</span>, <span style=\"color: #00af00; text-decoration-color: #00af00\">1</span>)         │          <span style=\"color: #00af00; text-decoration-color: #00af00\">0</span> │ Protocol[<span style=\"color: #00af00; text-decoration-color: #00af00\">0</span>][<span style=\"color: #00af00; text-decoration-color: #00af00\">0</span>]    │\n",
       "│ (<span style=\"color: #0087ff; text-decoration-color: #0087ff\">StringLookup</span>)      │                   │            │                   │\n",
       "├─────────────────────┼───────────────────┼────────────┼───────────────────┤\n",
       "│ integer_lookup      │ (<span style=\"color: #00d7ff; text-decoration-color: #00d7ff\">None</span>, <span style=\"color: #00af00; text-decoration-color: #00af00\">1</span>)         │          <span style=\"color: #00af00; text-decoration-color: #00af00\">0</span> │ Length[<span style=\"color: #00af00; text-decoration-color: #00af00\">0</span>][<span style=\"color: #00af00; text-decoration-color: #00af00\">0</span>]      │\n",
       "│ (<span style=\"color: #0087ff; text-decoration-color: #0087ff\">IntegerLookup</span>)     │                   │            │                   │\n",
       "├─────────────────────┼───────────────────┼────────────┼───────────────────┤\n",
       "│ dense_1 (<span style=\"color: #0087ff; text-decoration-color: #0087ff\">Dense</span>)     │ (<span style=\"color: #00d7ff; text-decoration-color: #00d7ff\">None</span>, <span style=\"color: #00af00; text-decoration-color: #00af00\">32</span>)        │         <span style=\"color: #00af00; text-decoration-color: #00af00\">64</span> │ normalization_1[<span style=\"color: #00af00; text-decoration-color: #00af00\">…</span> │\n",
       "├─────────────────────┼───────────────────┼────────────┼───────────────────┤\n",
       "│ string_lookup_2     │ (<span style=\"color: #00d7ff; text-decoration-color: #00d7ff\">None</span>, <span style=\"color: #00af00; text-decoration-color: #00af00\">1</span>)         │          <span style=\"color: #00af00; text-decoration-color: #00af00\">0</span> │ Info[<span style=\"color: #00af00; text-decoration-color: #00af00\">0</span>][<span style=\"color: #00af00; text-decoration-color: #00af00\">0</span>]        │\n",
       "│ (<span style=\"color: #0087ff; text-decoration-color: #0087ff\">StringLookup</span>)      │                   │            │                   │\n",
       "├─────────────────────┼───────────────────┼────────────┼───────────────────┤\n",
       "│ dense_2 (<span style=\"color: #0087ff; text-decoration-color: #0087ff\">Dense</span>)     │ (<span style=\"color: #00d7ff; text-decoration-color: #00d7ff\">None</span>, <span style=\"color: #00af00; text-decoration-color: #00af00\">32</span>)        │         <span style=\"color: #00af00; text-decoration-color: #00af00\">64</span> │ normalization_2[<span style=\"color: #00af00; text-decoration-color: #00af00\">…</span> │\n",
       "├─────────────────────┼───────────────────┼────────────┼───────────────────┤\n",
       "│ dense_3 (<span style=\"color: #0087ff; text-decoration-color: #0087ff\">Dense</span>)     │ (<span style=\"color: #00d7ff; text-decoration-color: #00d7ff\">None</span>, <span style=\"color: #00af00; text-decoration-color: #00af00\">32</span>)        │         <span style=\"color: #00af00; text-decoration-color: #00af00\">64</span> │ normalization_3[<span style=\"color: #00af00; text-decoration-color: #00af00\">…</span> │\n",
       "├─────────────────────┼───────────────────┼────────────┼───────────────────┤\n",
       "│ dense_4 (<span style=\"color: #0087ff; text-decoration-color: #0087ff\">Dense</span>)     │ (<span style=\"color: #00d7ff; text-decoration-color: #00d7ff\">None</span>, <span style=\"color: #00af00; text-decoration-color: #00af00\">32</span>)        │         <span style=\"color: #00af00; text-decoration-color: #00af00\">64</span> │ normalization_4[<span style=\"color: #00af00; text-decoration-color: #00af00\">…</span> │\n",
       "├─────────────────────┼───────────────────┼────────────┼───────────────────┤\n",
       "│ dense_5 (<span style=\"color: #0087ff; text-decoration-color: #0087ff\">Dense</span>)     │ (<span style=\"color: #00d7ff; text-decoration-color: #00d7ff\">None</span>, <span style=\"color: #00af00; text-decoration-color: #00af00\">32</span>)        │         <span style=\"color: #00af00; text-decoration-color: #00af00\">64</span> │ normalization_5[<span style=\"color: #00af00; text-decoration-color: #00af00\">…</span> │\n",
       "├─────────────────────┼───────────────────┼────────────┼───────────────────┤\n",
       "│ dense_6 (<span style=\"color: #0087ff; text-decoration-color: #0087ff\">Dense</span>)     │ (<span style=\"color: #00d7ff; text-decoration-color: #00d7ff\">None</span>, <span style=\"color: #00af00; text-decoration-color: #00af00\">32</span>)        │         <span style=\"color: #00af00; text-decoration-color: #00af00\">64</span> │ normalization_6[<span style=\"color: #00af00; text-decoration-color: #00af00\">…</span> │\n",
       "├─────────────────────┼───────────────────┼────────────┼───────────────────┤\n",
       "│ reshape (<span style=\"color: #0087ff; text-decoration-color: #0087ff\">Reshape</span>)   │ (<span style=\"color: #00d7ff; text-decoration-color: #00d7ff\">None</span>, <span style=\"color: #00af00; text-decoration-color: #00af00\">1</span>, <span style=\"color: #00af00; text-decoration-color: #00af00\">32</span>)     │          <span style=\"color: #00af00; text-decoration-color: #00af00\">0</span> │ dense[<span style=\"color: #00af00; text-decoration-color: #00af00\">0</span>][<span style=\"color: #00af00; text-decoration-color: #00af00\">0</span>]       │\n",
       "├─────────────────────┼───────────────────┼────────────┼───────────────────┤\n",
       "│ embedding           │ (<span style=\"color: #00d7ff; text-decoration-color: #00d7ff\">None</span>, <span style=\"color: #00af00; text-decoration-color: #00af00\">1</span>, <span style=\"color: #00af00; text-decoration-color: #00af00\">32</span>)     │      <span style=\"color: #00af00; text-decoration-color: #00af00\">1,664</span> │ string_lookup[<span style=\"color: #00af00; text-decoration-color: #00af00\">0</span>]… │\n",
       "│ (<span style=\"color: #0087ff; text-decoration-color: #0087ff\">Embedding</span>)         │                   │            │                   │\n",
       "├─────────────────────┼───────────────────┼────────────┼───────────────────┤\n",
       "│ embedding_1         │ (<span style=\"color: #00d7ff; text-decoration-color: #00d7ff\">None</span>, <span style=\"color: #00af00; text-decoration-color: #00af00\">1</span>, <span style=\"color: #00af00; text-decoration-color: #00af00\">32</span>)     │        <span style=\"color: #00af00; text-decoration-color: #00af00\">960</span> │ string_lookup_1[<span style=\"color: #00af00; text-decoration-color: #00af00\">…</span> │\n",
       "│ (<span style=\"color: #0087ff; text-decoration-color: #0087ff\">Embedding</span>)         │                   │            │                   │\n",
       "├─────────────────────┼───────────────────┼────────────┼───────────────────┤\n",
       "│ embedding_4         │ (<span style=\"color: #00d7ff; text-decoration-color: #00d7ff\">None</span>, <span style=\"color: #00af00; text-decoration-color: #00af00\">1</span>, <span style=\"color: #00af00; text-decoration-color: #00af00\">32</span>)     │        <span style=\"color: #00af00; text-decoration-color: #00af00\">128</span> │ string_lookup_3[<span style=\"color: #00af00; text-decoration-color: #00af00\">…</span> │\n",
       "│ (<span style=\"color: #0087ff; text-decoration-color: #0087ff\">Embedding</span>)         │                   │            │                   │\n",
       "├─────────────────────┼───────────────────┼────────────┼───────────────────┤\n",
       "│ embedding_3         │ (<span style=\"color: #00d7ff; text-decoration-color: #00d7ff\">None</span>, <span style=\"color: #00af00; text-decoration-color: #00af00\">1</span>, <span style=\"color: #00af00; text-decoration-color: #00af00\">32</span>)     │        <span style=\"color: #00af00; text-decoration-color: #00af00\">288</span> │ integer_lookup[<span style=\"color: #00af00; text-decoration-color: #00af00\">0</span>… │\n",
       "│ (<span style=\"color: #0087ff; text-decoration-color: #0087ff\">Embedding</span>)         │                   │            │                   │\n",
       "├─────────────────────┼───────────────────┼────────────┼───────────────────┤\n",
       "│ reshape_1 (<span style=\"color: #0087ff; text-decoration-color: #0087ff\">Reshape</span>) │ (<span style=\"color: #00d7ff; text-decoration-color: #00d7ff\">None</span>, <span style=\"color: #00af00; text-decoration-color: #00af00\">1</span>, <span style=\"color: #00af00; text-decoration-color: #00af00\">32</span>)     │          <span style=\"color: #00af00; text-decoration-color: #00af00\">0</span> │ dense_1[<span style=\"color: #00af00; text-decoration-color: #00af00\">0</span>][<span style=\"color: #00af00; text-decoration-color: #00af00\">0</span>]     │\n",
       "├─────────────────────┼───────────────────┼────────────┼───────────────────┤\n",
       "│ embedding_2         │ (<span style=\"color: #00d7ff; text-decoration-color: #00d7ff\">None</span>, <span style=\"color: #00af00; text-decoration-color: #00af00\">1</span>, <span style=\"color: #00af00; text-decoration-color: #00af00\">32</span>)     │        <span style=\"color: #00af00; text-decoration-color: #00af00\">224</span> │ string_lookup_2[<span style=\"color: #00af00; text-decoration-color: #00af00\">…</span> │\n",
       "│ (<span style=\"color: #0087ff; text-decoration-color: #0087ff\">Embedding</span>)         │                   │            │                   │\n",
       "├─────────────────────┼───────────────────┼────────────┼───────────────────┤\n",
       "│ reshape_2 (<span style=\"color: #0087ff; text-decoration-color: #0087ff\">Reshape</span>) │ (<span style=\"color: #00d7ff; text-decoration-color: #00d7ff\">None</span>, <span style=\"color: #00af00; text-decoration-color: #00af00\">1</span>, <span style=\"color: #00af00; text-decoration-color: #00af00\">32</span>)     │          <span style=\"color: #00af00; text-decoration-color: #00af00\">0</span> │ dense_2[<span style=\"color: #00af00; text-decoration-color: #00af00\">0</span>][<span style=\"color: #00af00; text-decoration-color: #00af00\">0</span>]     │\n",
       "├─────────────────────┼───────────────────┼────────────┼───────────────────┤\n",
       "│ reshape_3 (<span style=\"color: #0087ff; text-decoration-color: #0087ff\">Reshape</span>) │ (<span style=\"color: #00d7ff; text-decoration-color: #00d7ff\">None</span>, <span style=\"color: #00af00; text-decoration-color: #00af00\">1</span>, <span style=\"color: #00af00; text-decoration-color: #00af00\">32</span>)     │          <span style=\"color: #00af00; text-decoration-color: #00af00\">0</span> │ dense_3[<span style=\"color: #00af00; text-decoration-color: #00af00\">0</span>][<span style=\"color: #00af00; text-decoration-color: #00af00\">0</span>]     │\n",
       "├─────────────────────┼───────────────────┼────────────┼───────────────────┤\n",
       "│ reshape_4 (<span style=\"color: #0087ff; text-decoration-color: #0087ff\">Reshape</span>) │ (<span style=\"color: #00d7ff; text-decoration-color: #00d7ff\">None</span>, <span style=\"color: #00af00; text-decoration-color: #00af00\">1</span>, <span style=\"color: #00af00; text-decoration-color: #00af00\">32</span>)     │          <span style=\"color: #00af00; text-decoration-color: #00af00\">0</span> │ dense_4[<span style=\"color: #00af00; text-decoration-color: #00af00\">0</span>][<span style=\"color: #00af00; text-decoration-color: #00af00\">0</span>]     │\n",
       "├─────────────────────┼───────────────────┼────────────┼───────────────────┤\n",
       "│ reshape_5 (<span style=\"color: #0087ff; text-decoration-color: #0087ff\">Reshape</span>) │ (<span style=\"color: #00d7ff; text-decoration-color: #00d7ff\">None</span>, <span style=\"color: #00af00; text-decoration-color: #00af00\">1</span>, <span style=\"color: #00af00; text-decoration-color: #00af00\">32</span>)     │          <span style=\"color: #00af00; text-decoration-color: #00af00\">0</span> │ dense_5[<span style=\"color: #00af00; text-decoration-color: #00af00\">0</span>][<span style=\"color: #00af00; text-decoration-color: #00af00\">0</span>]     │\n",
       "├─────────────────────┼───────────────────┼────────────┼───────────────────┤\n",
       "│ reshape_6 (<span style=\"color: #0087ff; text-decoration-color: #0087ff\">Reshape</span>) │ (<span style=\"color: #00d7ff; text-decoration-color: #00d7ff\">None</span>, <span style=\"color: #00af00; text-decoration-color: #00af00\">1</span>, <span style=\"color: #00af00; text-decoration-color: #00af00\">32</span>)     │          <span style=\"color: #00af00; text-decoration-color: #00af00\">0</span> │ dense_6[<span style=\"color: #00af00; text-decoration-color: #00af00\">0</span>][<span style=\"color: #00af00; text-decoration-color: #00af00\">0</span>]     │\n",
       "├─────────────────────┼───────────────────┼────────────┼───────────────────┤\n",
       "│ concatenate         │ (<span style=\"color: #00d7ff; text-decoration-color: #00d7ff\">None</span>, <span style=\"color: #00af00; text-decoration-color: #00af00\">12</span>, <span style=\"color: #00af00; text-decoration-color: #00af00\">32</span>)    │          <span style=\"color: #00af00; text-decoration-color: #00af00\">0</span> │ reshape[<span style=\"color: #00af00; text-decoration-color: #00af00\">0</span>][<span style=\"color: #00af00; text-decoration-color: #00af00\">0</span>],    │\n",
       "│ (<span style=\"color: #0087ff; text-decoration-color: #0087ff\">Concatenate</span>)       │                   │            │ embedding[<span style=\"color: #00af00; text-decoration-color: #00af00\">0</span>][<span style=\"color: #00af00; text-decoration-color: #00af00\">0</span>],  │\n",
       "│                     │                   │            │ embedding_1[<span style=\"color: #00af00; text-decoration-color: #00af00\">0</span>][<span style=\"color: #00af00; text-decoration-color: #00af00\">0</span>… │\n",
       "│                     │                   │            │ embedding_4[<span style=\"color: #00af00; text-decoration-color: #00af00\">0</span>][<span style=\"color: #00af00; text-decoration-color: #00af00\">0</span>… │\n",
       "│                     │                   │            │ embedding_3[<span style=\"color: #00af00; text-decoration-color: #00af00\">0</span>][<span style=\"color: #00af00; text-decoration-color: #00af00\">0</span>… │\n",
       "│                     │                   │            │ reshape_1[<span style=\"color: #00af00; text-decoration-color: #00af00\">0</span>][<span style=\"color: #00af00; text-decoration-color: #00af00\">0</span>],  │\n",
       "│                     │                   │            │ embedding_2[<span style=\"color: #00af00; text-decoration-color: #00af00\">0</span>][<span style=\"color: #00af00; text-decoration-color: #00af00\">0</span>… │\n",
       "│                     │                   │            │ reshape_2[<span style=\"color: #00af00; text-decoration-color: #00af00\">0</span>][<span style=\"color: #00af00; text-decoration-color: #00af00\">0</span>],  │\n",
       "│                     │                   │            │ reshape_3[<span style=\"color: #00af00; text-decoration-color: #00af00\">0</span>][<span style=\"color: #00af00; text-decoration-color: #00af00\">0</span>],  │\n",
       "│                     │                   │            │ reshape_4[<span style=\"color: #00af00; text-decoration-color: #00af00\">0</span>][<span style=\"color: #00af00; text-decoration-color: #00af00\">0</span>],  │\n",
       "│                     │                   │            │ reshape_5[<span style=\"color: #00af00; text-decoration-color: #00af00\">0</span>][<span style=\"color: #00af00; text-decoration-color: #00af00\">0</span>],  │\n",
       "│                     │                   │            │ reshape_6[<span style=\"color: #00af00; text-decoration-color: #00af00\">0</span>][<span style=\"color: #00af00; text-decoration-color: #00af00\">0</span>]   │\n",
       "├─────────────────────┼───────────────────┼────────────┼───────────────────┤\n",
       "│ multi_head_attenti… │ (<span style=\"color: #00d7ff; text-decoration-color: #00d7ff\">None</span>, <span style=\"color: #00af00; text-decoration-color: #00af00\">12</span>, <span style=\"color: #00af00; text-decoration-color: #00af00\">32</span>)    │      <span style=\"color: #00af00; text-decoration-color: #00af00\">4,224</span> │ concatenate[<span style=\"color: #00af00; text-decoration-color: #00af00\">0</span>][<span style=\"color: #00af00; text-decoration-color: #00af00\">0</span>… │\n",
       "│ (<span style=\"color: #0087ff; text-decoration-color: #0087ff\">MultiHeadAttentio…</span> │                   │            │ concatenate[<span style=\"color: #00af00; text-decoration-color: #00af00\">0</span>][<span style=\"color: #00af00; text-decoration-color: #00af00\">0</span>] │\n",
       "├─────────────────────┼───────────────────┼────────────┼───────────────────┤\n",
       "│ dropout_1 (<span style=\"color: #0087ff; text-decoration-color: #0087ff\">Dropout</span>) │ (<span style=\"color: #00d7ff; text-decoration-color: #00d7ff\">None</span>, <span style=\"color: #00af00; text-decoration-color: #00af00\">12</span>, <span style=\"color: #00af00; text-decoration-color: #00af00\">32</span>)    │          <span style=\"color: #00af00; text-decoration-color: #00af00\">0</span> │ multi_head_atten… │\n",
       "├─────────────────────┼───────────────────┼────────────┼───────────────────┤\n",
       "│ add (<span style=\"color: #0087ff; text-decoration-color: #0087ff\">Add</span>)           │ (<span style=\"color: #00d7ff; text-decoration-color: #00d7ff\">None</span>, <span style=\"color: #00af00; text-decoration-color: #00af00\">12</span>, <span style=\"color: #00af00; text-decoration-color: #00af00\">32</span>)    │          <span style=\"color: #00af00; text-decoration-color: #00af00\">0</span> │ concatenate[<span style=\"color: #00af00; text-decoration-color: #00af00\">0</span>][<span style=\"color: #00af00; text-decoration-color: #00af00\">0</span>… │\n",
       "│                     │                   │            │ dropout_1[<span style=\"color: #00af00; text-decoration-color: #00af00\">0</span>][<span style=\"color: #00af00; text-decoration-color: #00af00\">0</span>]   │\n",
       "├─────────────────────┼───────────────────┼────────────┼───────────────────┤\n",
       "│ layer_normalization │ (<span style=\"color: #00d7ff; text-decoration-color: #00d7ff\">None</span>, <span style=\"color: #00af00; text-decoration-color: #00af00\">12</span>, <span style=\"color: #00af00; text-decoration-color: #00af00\">32</span>)    │         <span style=\"color: #00af00; text-decoration-color: #00af00\">64</span> │ add[<span style=\"color: #00af00; text-decoration-color: #00af00\">0</span>][<span style=\"color: #00af00; text-decoration-color: #00af00\">0</span>]         │\n",
       "│ (<span style=\"color: #0087ff; text-decoration-color: #0087ff\">LayerNormalizatio…</span> │                   │            │                   │\n",
       "├─────────────────────┼───────────────────┼────────────┼───────────────────┤\n",
       "│ sequential          │ (<span style=\"color: #00d7ff; text-decoration-color: #00d7ff\">None</span>, <span style=\"color: #00af00; text-decoration-color: #00af00\">12</span>, <span style=\"color: #00af00; text-decoration-color: #00af00\">32</span>)    │      <span style=\"color: #00af00; text-decoration-color: #00af00\">4,192</span> │ layer_normalizat… │\n",
       "│ (<span style=\"color: #0087ff; text-decoration-color: #0087ff\">Sequential</span>)        │                   │            │                   │\n",
       "├─────────────────────┼───────────────────┼────────────┼───────────────────┤\n",
       "│ dropout_2 (<span style=\"color: #0087ff; text-decoration-color: #0087ff\">Dropout</span>) │ (<span style=\"color: #00d7ff; text-decoration-color: #00d7ff\">None</span>, <span style=\"color: #00af00; text-decoration-color: #00af00\">12</span>, <span style=\"color: #00af00; text-decoration-color: #00af00\">32</span>)    │          <span style=\"color: #00af00; text-decoration-color: #00af00\">0</span> │ sequential[<span style=\"color: #00af00; text-decoration-color: #00af00\">0</span>][<span style=\"color: #00af00; text-decoration-color: #00af00\">0</span>]  │\n",
       "├─────────────────────┼───────────────────┼────────────┼───────────────────┤\n",
       "│ add_1 (<span style=\"color: #0087ff; text-decoration-color: #0087ff\">Add</span>)         │ (<span style=\"color: #00d7ff; text-decoration-color: #00d7ff\">None</span>, <span style=\"color: #00af00; text-decoration-color: #00af00\">12</span>, <span style=\"color: #00af00; text-decoration-color: #00af00\">32</span>)    │          <span style=\"color: #00af00; text-decoration-color: #00af00\">0</span> │ layer_normalizat… │\n",
       "│                     │                   │            │ dropout_2[<span style=\"color: #00af00; text-decoration-color: #00af00\">0</span>][<span style=\"color: #00af00; text-decoration-color: #00af00\">0</span>]   │\n",
       "├─────────────────────┼───────────────────┼────────────┼───────────────────┤\n",
       "│ layer_normalizatio… │ (<span style=\"color: #00d7ff; text-decoration-color: #00d7ff\">None</span>, <span style=\"color: #00af00; text-decoration-color: #00af00\">12</span>, <span style=\"color: #00af00; text-decoration-color: #00af00\">32</span>)    │         <span style=\"color: #00af00; text-decoration-color: #00af00\">64</span> │ add_1[<span style=\"color: #00af00; text-decoration-color: #00af00\">0</span>][<span style=\"color: #00af00; text-decoration-color: #00af00\">0</span>]       │\n",
       "│ (<span style=\"color: #0087ff; text-decoration-color: #0087ff\">LayerNormalizatio…</span> │                   │            │                   │\n",
       "├─────────────────────┼───────────────────┼────────────┼───────────────────┤\n",
       "│ multi_head_attenti… │ (<span style=\"color: #00d7ff; text-decoration-color: #00d7ff\">None</span>, <span style=\"color: #00af00; text-decoration-color: #00af00\">12</span>, <span style=\"color: #00af00; text-decoration-color: #00af00\">32</span>)    │      <span style=\"color: #00af00; text-decoration-color: #00af00\">4,224</span> │ layer_normalizat… │\n",
       "│ (<span style=\"color: #0087ff; text-decoration-color: #0087ff\">MultiHeadAttentio…</span> │                   │            │ layer_normalizat… │\n",
       "├─────────────────────┼───────────────────┼────────────┼───────────────────┤\n",
       "│ dropout_4 (<span style=\"color: #0087ff; text-decoration-color: #0087ff\">Dropout</span>) │ (<span style=\"color: #00d7ff; text-decoration-color: #00d7ff\">None</span>, <span style=\"color: #00af00; text-decoration-color: #00af00\">12</span>, <span style=\"color: #00af00; text-decoration-color: #00af00\">32</span>)    │          <span style=\"color: #00af00; text-decoration-color: #00af00\">0</span> │ multi_head_atten… │\n",
       "├─────────────────────┼───────────────────┼────────────┼───────────────────┤\n",
       "│ add_2 (<span style=\"color: #0087ff; text-decoration-color: #0087ff\">Add</span>)         │ (<span style=\"color: #00d7ff; text-decoration-color: #00d7ff\">None</span>, <span style=\"color: #00af00; text-decoration-color: #00af00\">12</span>, <span style=\"color: #00af00; text-decoration-color: #00af00\">32</span>)    │          <span style=\"color: #00af00; text-decoration-color: #00af00\">0</span> │ layer_normalizat… │\n",
       "│                     │                   │            │ dropout_4[<span style=\"color: #00af00; text-decoration-color: #00af00\">0</span>][<span style=\"color: #00af00; text-decoration-color: #00af00\">0</span>]   │\n",
       "├─────────────────────┼───────────────────┼────────────┼───────────────────┤\n",
       "│ layer_normalizatio… │ (<span style=\"color: #00d7ff; text-decoration-color: #00d7ff\">None</span>, <span style=\"color: #00af00; text-decoration-color: #00af00\">12</span>, <span style=\"color: #00af00; text-decoration-color: #00af00\">32</span>)    │         <span style=\"color: #00af00; text-decoration-color: #00af00\">64</span> │ add_2[<span style=\"color: #00af00; text-decoration-color: #00af00\">0</span>][<span style=\"color: #00af00; text-decoration-color: #00af00\">0</span>]       │\n",
       "│ (<span style=\"color: #0087ff; text-decoration-color: #0087ff\">LayerNormalizatio…</span> │                   │            │                   │\n",
       "├─────────────────────┼───────────────────┼────────────┼───────────────────┤\n",
       "│ sequential_1        │ (<span style=\"color: #00d7ff; text-decoration-color: #00d7ff\">None</span>, <span style=\"color: #00af00; text-decoration-color: #00af00\">12</span>, <span style=\"color: #00af00; text-decoration-color: #00af00\">32</span>)    │      <span style=\"color: #00af00; text-decoration-color: #00af00\">4,192</span> │ layer_normalizat… │\n",
       "│ (<span style=\"color: #0087ff; text-decoration-color: #0087ff\">Sequential</span>)        │                   │            │                   │\n",
       "├─────────────────────┼───────────────────┼────────────┼───────────────────┤\n",
       "│ dropout_5 (<span style=\"color: #0087ff; text-decoration-color: #0087ff\">Dropout</span>) │ (<span style=\"color: #00d7ff; text-decoration-color: #00d7ff\">None</span>, <span style=\"color: #00af00; text-decoration-color: #00af00\">12</span>, <span style=\"color: #00af00; text-decoration-color: #00af00\">32</span>)    │          <span style=\"color: #00af00; text-decoration-color: #00af00\">0</span> │ sequential_1[<span style=\"color: #00af00; text-decoration-color: #00af00\">0</span>][<span style=\"color: #00af00; text-decoration-color: #00af00\">…</span> │\n",
       "├─────────────────────┼───────────────────┼────────────┼───────────────────┤\n",
       "│ add_3 (<span style=\"color: #0087ff; text-decoration-color: #0087ff\">Add</span>)         │ (<span style=\"color: #00d7ff; text-decoration-color: #00d7ff\">None</span>, <span style=\"color: #00af00; text-decoration-color: #00af00\">12</span>, <span style=\"color: #00af00; text-decoration-color: #00af00\">32</span>)    │          <span style=\"color: #00af00; text-decoration-color: #00af00\">0</span> │ layer_normalizat… │\n",
       "│                     │                   │            │ dropout_5[<span style=\"color: #00af00; text-decoration-color: #00af00\">0</span>][<span style=\"color: #00af00; text-decoration-color: #00af00\">0</span>]   │\n",
       "├─────────────────────┼───────────────────┼────────────┼───────────────────┤\n",
       "│ layer_normalizatio… │ (<span style=\"color: #00d7ff; text-decoration-color: #00d7ff\">None</span>, <span style=\"color: #00af00; text-decoration-color: #00af00\">12</span>, <span style=\"color: #00af00; text-decoration-color: #00af00\">32</span>)    │         <span style=\"color: #00af00; text-decoration-color: #00af00\">64</span> │ add_3[<span style=\"color: #00af00; text-decoration-color: #00af00\">0</span>][<span style=\"color: #00af00; text-decoration-color: #00af00\">0</span>]       │\n",
       "│ (<span style=\"color: #0087ff; text-decoration-color: #0087ff\">LayerNormalizatio…</span> │                   │            │                   │\n",
       "├─────────────────────┼───────────────────┼────────────┼───────────────────┤\n",
       "│ global_average_poo… │ (<span style=\"color: #00d7ff; text-decoration-color: #00d7ff\">None</span>, <span style=\"color: #00af00; text-decoration-color: #00af00\">32</span>)        │          <span style=\"color: #00af00; text-decoration-color: #00af00\">0</span> │ layer_normalizat… │\n",
       "│ (<span style=\"color: #0087ff; text-decoration-color: #0087ff\">GlobalAveragePool…</span> │                   │            │                   │\n",
       "├─────────────────────┼───────────────────┼────────────┼───────────────────┤\n",
       "│ dense_11 (<span style=\"color: #0087ff; text-decoration-color: #0087ff\">Dense</span>)    │ (<span style=\"color: #00d7ff; text-decoration-color: #00d7ff\">None</span>, <span style=\"color: #00af00; text-decoration-color: #00af00\">1</span>)         │         <span style=\"color: #00af00; text-decoration-color: #00af00\">33</span> │ global_average_p… │\n",
       "└─────────────────────┴───────────────────┴────────────┴───────────────────┘\n",
       "</pre>\n"
      ],
      "text/plain": [
       "┏━━━━━━━━━━━━━━━━━━━━━┳━━━━━━━━━━━━━━━━━━━┳━━━━━━━━━━━━┳━━━━━━━━━━━━━━━━━━━┓\n",
       "┃\u001b[1m \u001b[0m\u001b[1mLayer (type)       \u001b[0m\u001b[1m \u001b[0m┃\u001b[1m \u001b[0m\u001b[1mOutput Shape     \u001b[0m\u001b[1m \u001b[0m┃\u001b[1m \u001b[0m\u001b[1m   Param #\u001b[0m\u001b[1m \u001b[0m┃\u001b[1m \u001b[0m\u001b[1mConnected to     \u001b[0m\u001b[1m \u001b[0m┃\n",
       "┡━━━━━━━━━━━━━━━━━━━━━╇━━━━━━━━━━━━━━━━━━━╇━━━━━━━━━━━━╇━━━━━━━━━━━━━━━━━━━┩\n",
       "│ Time (\u001b[38;5;33mInputLayer\u001b[0m)   │ (\u001b[38;5;45mNone\u001b[0m, \u001b[38;5;34m1\u001b[0m)         │          \u001b[38;5;34m0\u001b[0m │ -                 │\n",
       "├─────────────────────┼───────────────────┼────────────┼───────────────────┤\n",
       "│ Rank (\u001b[38;5;33mInputLayer\u001b[0m)   │ (\u001b[38;5;45mNone\u001b[0m, \u001b[38;5;34m1\u001b[0m)         │          \u001b[38;5;34m0\u001b[0m │ -                 │\n",
       "├─────────────────────┼───────────────────┼────────────┼───────────────────┤\n",
       "│ Interval            │ (\u001b[38;5;45mNone\u001b[0m, \u001b[38;5;34m1\u001b[0m)         │          \u001b[38;5;34m0\u001b[0m │ -                 │\n",
       "│ (\u001b[38;5;33mInputLayer\u001b[0m)        │                   │            │                   │\n",
       "├─────────────────────┼───────────────────┼────────────┼───────────────────┤\n",
       "│ RDAO (\u001b[38;5;33mInputLayer\u001b[0m)   │ (\u001b[38;5;45mNone\u001b[0m, \u001b[38;5;34m1\u001b[0m)         │          \u001b[38;5;34m0\u001b[0m │ -                 │\n",
       "├─────────────────────┼───────────────────┼────────────┼───────────────────┤\n",
       "│ RDIO (\u001b[38;5;33mInputLayer\u001b[0m)   │ (\u001b[38;5;45mNone\u001b[0m, \u001b[38;5;34m1\u001b[0m)         │          \u001b[38;5;34m0\u001b[0m │ -                 │\n",
       "├─────────────────────┼───────────────────┼────────────┼───────────────────┤\n",
       "│ SDIO (\u001b[38;5;33mInputLayer\u001b[0m)   │ (\u001b[38;5;45mNone\u001b[0m, \u001b[38;5;34m1\u001b[0m)         │          \u001b[38;5;34m0\u001b[0m │ -                 │\n",
       "├─────────────────────┼───────────────────┼────────────┼───────────────────┤\n",
       "│ SDAO (\u001b[38;5;33mInputLayer\u001b[0m)   │ (\u001b[38;5;45mNone\u001b[0m, \u001b[38;5;34m1\u001b[0m)         │          \u001b[38;5;34m0\u001b[0m │ -                 │\n",
       "├─────────────────────┼───────────────────┼────────────┼───────────────────┤\n",
       "│ normalization       │ (\u001b[38;5;45mNone\u001b[0m, \u001b[38;5;34m1\u001b[0m)         │          \u001b[38;5;34m3\u001b[0m │ Time[\u001b[38;5;34m0\u001b[0m][\u001b[38;5;34m0\u001b[0m]        │\n",
       "│ (\u001b[38;5;33mNormalization\u001b[0m)     │                   │            │                   │\n",
       "├─────────────────────┼───────────────────┼────────────┼───────────────────┤\n",
       "│ Source (\u001b[38;5;33mInputLayer\u001b[0m) │ (\u001b[38;5;45mNone\u001b[0m, \u001b[38;5;34m1\u001b[0m)         │          \u001b[38;5;34m0\u001b[0m │ -                 │\n",
       "├─────────────────────┼───────────────────┼────────────┼───────────────────┤\n",
       "│ Destination         │ (\u001b[38;5;45mNone\u001b[0m, \u001b[38;5;34m1\u001b[0m)         │          \u001b[38;5;34m0\u001b[0m │ -                 │\n",
       "│ (\u001b[38;5;33mInputLayer\u001b[0m)        │                   │            │                   │\n",
       "├─────────────────────┼───────────────────┼────────────┼───────────────────┤\n",
       "│ Protocol            │ (\u001b[38;5;45mNone\u001b[0m, \u001b[38;5;34m1\u001b[0m)         │          \u001b[38;5;34m0\u001b[0m │ -                 │\n",
       "│ (\u001b[38;5;33mInputLayer\u001b[0m)        │                   │            │                   │\n",
       "├─────────────────────┼───────────────────┼────────────┼───────────────────┤\n",
       "│ Length (\u001b[38;5;33mInputLayer\u001b[0m) │ (\u001b[38;5;45mNone\u001b[0m, \u001b[38;5;34m1\u001b[0m)         │          \u001b[38;5;34m0\u001b[0m │ -                 │\n",
       "├─────────────────────┼───────────────────┼────────────┼───────────────────┤\n",
       "│ normalization_1     │ (\u001b[38;5;45mNone\u001b[0m, \u001b[38;5;34m1\u001b[0m)         │          \u001b[38;5;34m3\u001b[0m │ Rank[\u001b[38;5;34m0\u001b[0m][\u001b[38;5;34m0\u001b[0m]        │\n",
       "│ (\u001b[38;5;33mNormalization\u001b[0m)     │                   │            │                   │\n",
       "├─────────────────────┼───────────────────┼────────────┼───────────────────┤\n",
       "│ Info (\u001b[38;5;33mInputLayer\u001b[0m)   │ (\u001b[38;5;45mNone\u001b[0m, \u001b[38;5;34m1\u001b[0m)         │          \u001b[38;5;34m0\u001b[0m │ -                 │\n",
       "├─────────────────────┼───────────────────┼────────────┼───────────────────┤\n",
       "│ normalization_2     │ (\u001b[38;5;45mNone\u001b[0m, \u001b[38;5;34m1\u001b[0m)         │          \u001b[38;5;34m3\u001b[0m │ Interval[\u001b[38;5;34m0\u001b[0m][\u001b[38;5;34m0\u001b[0m]    │\n",
       "│ (\u001b[38;5;33mNormalization\u001b[0m)     │                   │            │                   │\n",
       "├─────────────────────┼───────────────────┼────────────┼───────────────────┤\n",
       "│ normalization_3     │ (\u001b[38;5;45mNone\u001b[0m, \u001b[38;5;34m1\u001b[0m)         │          \u001b[38;5;34m3\u001b[0m │ RDAO[\u001b[38;5;34m0\u001b[0m][\u001b[38;5;34m0\u001b[0m]        │\n",
       "│ (\u001b[38;5;33mNormalization\u001b[0m)     │                   │            │                   │\n",
       "├─────────────────────┼───────────────────┼────────────┼───────────────────┤\n",
       "│ normalization_4     │ (\u001b[38;5;45mNone\u001b[0m, \u001b[38;5;34m1\u001b[0m)         │          \u001b[38;5;34m3\u001b[0m │ RDIO[\u001b[38;5;34m0\u001b[0m][\u001b[38;5;34m0\u001b[0m]        │\n",
       "│ (\u001b[38;5;33mNormalization\u001b[0m)     │                   │            │                   │\n",
       "├─────────────────────┼───────────────────┼────────────┼───────────────────┤\n",
       "│ normalization_5     │ (\u001b[38;5;45mNone\u001b[0m, \u001b[38;5;34m1\u001b[0m)         │          \u001b[38;5;34m3\u001b[0m │ SDIO[\u001b[38;5;34m0\u001b[0m][\u001b[38;5;34m0\u001b[0m]        │\n",
       "│ (\u001b[38;5;33mNormalization\u001b[0m)     │                   │            │                   │\n",
       "├─────────────────────┼───────────────────┼────────────┼───────────────────┤\n",
       "│ normalization_6     │ (\u001b[38;5;45mNone\u001b[0m, \u001b[38;5;34m1\u001b[0m)         │          \u001b[38;5;34m3\u001b[0m │ SDAO[\u001b[38;5;34m0\u001b[0m][\u001b[38;5;34m0\u001b[0m]        │\n",
       "│ (\u001b[38;5;33mNormalization\u001b[0m)     │                   │            │                   │\n",
       "├─────────────────────┼───────────────────┼────────────┼───────────────────┤\n",
       "│ dense (\u001b[38;5;33mDense\u001b[0m)       │ (\u001b[38;5;45mNone\u001b[0m, \u001b[38;5;34m32\u001b[0m)        │         \u001b[38;5;34m64\u001b[0m │ normalization[\u001b[38;5;34m0\u001b[0m]… │\n",
       "├─────────────────────┼───────────────────┼────────────┼───────────────────┤\n",
       "│ string_lookup       │ (\u001b[38;5;45mNone\u001b[0m, \u001b[38;5;34m1\u001b[0m)         │          \u001b[38;5;34m0\u001b[0m │ Source[\u001b[38;5;34m0\u001b[0m][\u001b[38;5;34m0\u001b[0m]      │\n",
       "│ (\u001b[38;5;33mStringLookup\u001b[0m)      │                   │            │                   │\n",
       "├─────────────────────┼───────────────────┼────────────┼───────────────────┤\n",
       "│ string_lookup_1     │ (\u001b[38;5;45mNone\u001b[0m, \u001b[38;5;34m1\u001b[0m)         │          \u001b[38;5;34m0\u001b[0m │ Destination[\u001b[38;5;34m0\u001b[0m][\u001b[38;5;34m0\u001b[0m] │\n",
       "│ (\u001b[38;5;33mStringLookup\u001b[0m)      │                   │            │                   │\n",
       "├─────────────────────┼───────────────────┼────────────┼───────────────────┤\n",
       "│ string_lookup_3     │ (\u001b[38;5;45mNone\u001b[0m, \u001b[38;5;34m1\u001b[0m)         │          \u001b[38;5;34m0\u001b[0m │ Protocol[\u001b[38;5;34m0\u001b[0m][\u001b[38;5;34m0\u001b[0m]    │\n",
       "│ (\u001b[38;5;33mStringLookup\u001b[0m)      │                   │            │                   │\n",
       "├─────────────────────┼───────────────────┼────────────┼───────────────────┤\n",
       "│ integer_lookup      │ (\u001b[38;5;45mNone\u001b[0m, \u001b[38;5;34m1\u001b[0m)         │          \u001b[38;5;34m0\u001b[0m │ Length[\u001b[38;5;34m0\u001b[0m][\u001b[38;5;34m0\u001b[0m]      │\n",
       "│ (\u001b[38;5;33mIntegerLookup\u001b[0m)     │                   │            │                   │\n",
       "├─────────────────────┼───────────────────┼────────────┼───────────────────┤\n",
       "│ dense_1 (\u001b[38;5;33mDense\u001b[0m)     │ (\u001b[38;5;45mNone\u001b[0m, \u001b[38;5;34m32\u001b[0m)        │         \u001b[38;5;34m64\u001b[0m │ normalization_1[\u001b[38;5;34m…\u001b[0m │\n",
       "├─────────────────────┼───────────────────┼────────────┼───────────────────┤\n",
       "│ string_lookup_2     │ (\u001b[38;5;45mNone\u001b[0m, \u001b[38;5;34m1\u001b[0m)         │          \u001b[38;5;34m0\u001b[0m │ Info[\u001b[38;5;34m0\u001b[0m][\u001b[38;5;34m0\u001b[0m]        │\n",
       "│ (\u001b[38;5;33mStringLookup\u001b[0m)      │                   │            │                   │\n",
       "├─────────────────────┼───────────────────┼────────────┼───────────────────┤\n",
       "│ dense_2 (\u001b[38;5;33mDense\u001b[0m)     │ (\u001b[38;5;45mNone\u001b[0m, \u001b[38;5;34m32\u001b[0m)        │         \u001b[38;5;34m64\u001b[0m │ normalization_2[\u001b[38;5;34m…\u001b[0m │\n",
       "├─────────────────────┼───────────────────┼────────────┼───────────────────┤\n",
       "│ dense_3 (\u001b[38;5;33mDense\u001b[0m)     │ (\u001b[38;5;45mNone\u001b[0m, \u001b[38;5;34m32\u001b[0m)        │         \u001b[38;5;34m64\u001b[0m │ normalization_3[\u001b[38;5;34m…\u001b[0m │\n",
       "├─────────────────────┼───────────────────┼────────────┼───────────────────┤\n",
       "│ dense_4 (\u001b[38;5;33mDense\u001b[0m)     │ (\u001b[38;5;45mNone\u001b[0m, \u001b[38;5;34m32\u001b[0m)        │         \u001b[38;5;34m64\u001b[0m │ normalization_4[\u001b[38;5;34m…\u001b[0m │\n",
       "├─────────────────────┼───────────────────┼────────────┼───────────────────┤\n",
       "│ dense_5 (\u001b[38;5;33mDense\u001b[0m)     │ (\u001b[38;5;45mNone\u001b[0m, \u001b[38;5;34m32\u001b[0m)        │         \u001b[38;5;34m64\u001b[0m │ normalization_5[\u001b[38;5;34m…\u001b[0m │\n",
       "├─────────────────────┼───────────────────┼────────────┼───────────────────┤\n",
       "│ dense_6 (\u001b[38;5;33mDense\u001b[0m)     │ (\u001b[38;5;45mNone\u001b[0m, \u001b[38;5;34m32\u001b[0m)        │         \u001b[38;5;34m64\u001b[0m │ normalization_6[\u001b[38;5;34m…\u001b[0m │\n",
       "├─────────────────────┼───────────────────┼────────────┼───────────────────┤\n",
       "│ reshape (\u001b[38;5;33mReshape\u001b[0m)   │ (\u001b[38;5;45mNone\u001b[0m, \u001b[38;5;34m1\u001b[0m, \u001b[38;5;34m32\u001b[0m)     │          \u001b[38;5;34m0\u001b[0m │ dense[\u001b[38;5;34m0\u001b[0m][\u001b[38;5;34m0\u001b[0m]       │\n",
       "├─────────────────────┼───────────────────┼────────────┼───────────────────┤\n",
       "│ embedding           │ (\u001b[38;5;45mNone\u001b[0m, \u001b[38;5;34m1\u001b[0m, \u001b[38;5;34m32\u001b[0m)     │      \u001b[38;5;34m1,664\u001b[0m │ string_lookup[\u001b[38;5;34m0\u001b[0m]… │\n",
       "│ (\u001b[38;5;33mEmbedding\u001b[0m)         │                   │            │                   │\n",
       "├─────────────────────┼───────────────────┼────────────┼───────────────────┤\n",
       "│ embedding_1         │ (\u001b[38;5;45mNone\u001b[0m, \u001b[38;5;34m1\u001b[0m, \u001b[38;5;34m32\u001b[0m)     │        \u001b[38;5;34m960\u001b[0m │ string_lookup_1[\u001b[38;5;34m…\u001b[0m │\n",
       "│ (\u001b[38;5;33mEmbedding\u001b[0m)         │                   │            │                   │\n",
       "├─────────────────────┼───────────────────┼────────────┼───────────────────┤\n",
       "│ embedding_4         │ (\u001b[38;5;45mNone\u001b[0m, \u001b[38;5;34m1\u001b[0m, \u001b[38;5;34m32\u001b[0m)     │        \u001b[38;5;34m128\u001b[0m │ string_lookup_3[\u001b[38;5;34m…\u001b[0m │\n",
       "│ (\u001b[38;5;33mEmbedding\u001b[0m)         │                   │            │                   │\n",
       "├─────────────────────┼───────────────────┼────────────┼───────────────────┤\n",
       "│ embedding_3         │ (\u001b[38;5;45mNone\u001b[0m, \u001b[38;5;34m1\u001b[0m, \u001b[38;5;34m32\u001b[0m)     │        \u001b[38;5;34m288\u001b[0m │ integer_lookup[\u001b[38;5;34m0\u001b[0m… │\n",
       "│ (\u001b[38;5;33mEmbedding\u001b[0m)         │                   │            │                   │\n",
       "├─────────────────────┼───────────────────┼────────────┼───────────────────┤\n",
       "│ reshape_1 (\u001b[38;5;33mReshape\u001b[0m) │ (\u001b[38;5;45mNone\u001b[0m, \u001b[38;5;34m1\u001b[0m, \u001b[38;5;34m32\u001b[0m)     │          \u001b[38;5;34m0\u001b[0m │ dense_1[\u001b[38;5;34m0\u001b[0m][\u001b[38;5;34m0\u001b[0m]     │\n",
       "├─────────────────────┼───────────────────┼────────────┼───────────────────┤\n",
       "│ embedding_2         │ (\u001b[38;5;45mNone\u001b[0m, \u001b[38;5;34m1\u001b[0m, \u001b[38;5;34m32\u001b[0m)     │        \u001b[38;5;34m224\u001b[0m │ string_lookup_2[\u001b[38;5;34m…\u001b[0m │\n",
       "│ (\u001b[38;5;33mEmbedding\u001b[0m)         │                   │            │                   │\n",
       "├─────────────────────┼───────────────────┼────────────┼───────────────────┤\n",
       "│ reshape_2 (\u001b[38;5;33mReshape\u001b[0m) │ (\u001b[38;5;45mNone\u001b[0m, \u001b[38;5;34m1\u001b[0m, \u001b[38;5;34m32\u001b[0m)     │          \u001b[38;5;34m0\u001b[0m │ dense_2[\u001b[38;5;34m0\u001b[0m][\u001b[38;5;34m0\u001b[0m]     │\n",
       "├─────────────────────┼───────────────────┼────────────┼───────────────────┤\n",
       "│ reshape_3 (\u001b[38;5;33mReshape\u001b[0m) │ (\u001b[38;5;45mNone\u001b[0m, \u001b[38;5;34m1\u001b[0m, \u001b[38;5;34m32\u001b[0m)     │          \u001b[38;5;34m0\u001b[0m │ dense_3[\u001b[38;5;34m0\u001b[0m][\u001b[38;5;34m0\u001b[0m]     │\n",
       "├─────────────────────┼───────────────────┼────────────┼───────────────────┤\n",
       "│ reshape_4 (\u001b[38;5;33mReshape\u001b[0m) │ (\u001b[38;5;45mNone\u001b[0m, \u001b[38;5;34m1\u001b[0m, \u001b[38;5;34m32\u001b[0m)     │          \u001b[38;5;34m0\u001b[0m │ dense_4[\u001b[38;5;34m0\u001b[0m][\u001b[38;5;34m0\u001b[0m]     │\n",
       "├─────────────────────┼───────────────────┼────────────┼───────────────────┤\n",
       "│ reshape_5 (\u001b[38;5;33mReshape\u001b[0m) │ (\u001b[38;5;45mNone\u001b[0m, \u001b[38;5;34m1\u001b[0m, \u001b[38;5;34m32\u001b[0m)     │          \u001b[38;5;34m0\u001b[0m │ dense_5[\u001b[38;5;34m0\u001b[0m][\u001b[38;5;34m0\u001b[0m]     │\n",
       "├─────────────────────┼───────────────────┼────────────┼───────────────────┤\n",
       "│ reshape_6 (\u001b[38;5;33mReshape\u001b[0m) │ (\u001b[38;5;45mNone\u001b[0m, \u001b[38;5;34m1\u001b[0m, \u001b[38;5;34m32\u001b[0m)     │          \u001b[38;5;34m0\u001b[0m │ dense_6[\u001b[38;5;34m0\u001b[0m][\u001b[38;5;34m0\u001b[0m]     │\n",
       "├─────────────────────┼───────────────────┼────────────┼───────────────────┤\n",
       "│ concatenate         │ (\u001b[38;5;45mNone\u001b[0m, \u001b[38;5;34m12\u001b[0m, \u001b[38;5;34m32\u001b[0m)    │          \u001b[38;5;34m0\u001b[0m │ reshape[\u001b[38;5;34m0\u001b[0m][\u001b[38;5;34m0\u001b[0m],    │\n",
       "│ (\u001b[38;5;33mConcatenate\u001b[0m)       │                   │            │ embedding[\u001b[38;5;34m0\u001b[0m][\u001b[38;5;34m0\u001b[0m],  │\n",
       "│                     │                   │            │ embedding_1[\u001b[38;5;34m0\u001b[0m][\u001b[38;5;34m0\u001b[0m… │\n",
       "│                     │                   │            │ embedding_4[\u001b[38;5;34m0\u001b[0m][\u001b[38;5;34m0\u001b[0m… │\n",
       "│                     │                   │            │ embedding_3[\u001b[38;5;34m0\u001b[0m][\u001b[38;5;34m0\u001b[0m… │\n",
       "│                     │                   │            │ reshape_1[\u001b[38;5;34m0\u001b[0m][\u001b[38;5;34m0\u001b[0m],  │\n",
       "│                     │                   │            │ embedding_2[\u001b[38;5;34m0\u001b[0m][\u001b[38;5;34m0\u001b[0m… │\n",
       "│                     │                   │            │ reshape_2[\u001b[38;5;34m0\u001b[0m][\u001b[38;5;34m0\u001b[0m],  │\n",
       "│                     │                   │            │ reshape_3[\u001b[38;5;34m0\u001b[0m][\u001b[38;5;34m0\u001b[0m],  │\n",
       "│                     │                   │            │ reshape_4[\u001b[38;5;34m0\u001b[0m][\u001b[38;5;34m0\u001b[0m],  │\n",
       "│                     │                   │            │ reshape_5[\u001b[38;5;34m0\u001b[0m][\u001b[38;5;34m0\u001b[0m],  │\n",
       "│                     │                   │            │ reshape_6[\u001b[38;5;34m0\u001b[0m][\u001b[38;5;34m0\u001b[0m]   │\n",
       "├─────────────────────┼───────────────────┼────────────┼───────────────────┤\n",
       "│ multi_head_attenti… │ (\u001b[38;5;45mNone\u001b[0m, \u001b[38;5;34m12\u001b[0m, \u001b[38;5;34m32\u001b[0m)    │      \u001b[38;5;34m4,224\u001b[0m │ concatenate[\u001b[38;5;34m0\u001b[0m][\u001b[38;5;34m0\u001b[0m… │\n",
       "│ (\u001b[38;5;33mMultiHeadAttentio…\u001b[0m │                   │            │ concatenate[\u001b[38;5;34m0\u001b[0m][\u001b[38;5;34m0\u001b[0m] │\n",
       "├─────────────────────┼───────────────────┼────────────┼───────────────────┤\n",
       "│ dropout_1 (\u001b[38;5;33mDropout\u001b[0m) │ (\u001b[38;5;45mNone\u001b[0m, \u001b[38;5;34m12\u001b[0m, \u001b[38;5;34m32\u001b[0m)    │          \u001b[38;5;34m0\u001b[0m │ multi_head_atten… │\n",
       "├─────────────────────┼───────────────────┼────────────┼───────────────────┤\n",
       "│ add (\u001b[38;5;33mAdd\u001b[0m)           │ (\u001b[38;5;45mNone\u001b[0m, \u001b[38;5;34m12\u001b[0m, \u001b[38;5;34m32\u001b[0m)    │          \u001b[38;5;34m0\u001b[0m │ concatenate[\u001b[38;5;34m0\u001b[0m][\u001b[38;5;34m0\u001b[0m… │\n",
       "│                     │                   │            │ dropout_1[\u001b[38;5;34m0\u001b[0m][\u001b[38;5;34m0\u001b[0m]   │\n",
       "├─────────────────────┼───────────────────┼────────────┼───────────────────┤\n",
       "│ layer_normalization │ (\u001b[38;5;45mNone\u001b[0m, \u001b[38;5;34m12\u001b[0m, \u001b[38;5;34m32\u001b[0m)    │         \u001b[38;5;34m64\u001b[0m │ add[\u001b[38;5;34m0\u001b[0m][\u001b[38;5;34m0\u001b[0m]         │\n",
       "│ (\u001b[38;5;33mLayerNormalizatio…\u001b[0m │                   │            │                   │\n",
       "├─────────────────────┼───────────────────┼────────────┼───────────────────┤\n",
       "│ sequential          │ (\u001b[38;5;45mNone\u001b[0m, \u001b[38;5;34m12\u001b[0m, \u001b[38;5;34m32\u001b[0m)    │      \u001b[38;5;34m4,192\u001b[0m │ layer_normalizat… │\n",
       "│ (\u001b[38;5;33mSequential\u001b[0m)        │                   │            │                   │\n",
       "├─────────────────────┼───────────────────┼────────────┼───────────────────┤\n",
       "│ dropout_2 (\u001b[38;5;33mDropout\u001b[0m) │ (\u001b[38;5;45mNone\u001b[0m, \u001b[38;5;34m12\u001b[0m, \u001b[38;5;34m32\u001b[0m)    │          \u001b[38;5;34m0\u001b[0m │ sequential[\u001b[38;5;34m0\u001b[0m][\u001b[38;5;34m0\u001b[0m]  │\n",
       "├─────────────────────┼───────────────────┼────────────┼───────────────────┤\n",
       "│ add_1 (\u001b[38;5;33mAdd\u001b[0m)         │ (\u001b[38;5;45mNone\u001b[0m, \u001b[38;5;34m12\u001b[0m, \u001b[38;5;34m32\u001b[0m)    │          \u001b[38;5;34m0\u001b[0m │ layer_normalizat… │\n",
       "│                     │                   │            │ dropout_2[\u001b[38;5;34m0\u001b[0m][\u001b[38;5;34m0\u001b[0m]   │\n",
       "├─────────────────────┼───────────────────┼────────────┼───────────────────┤\n",
       "│ layer_normalizatio… │ (\u001b[38;5;45mNone\u001b[0m, \u001b[38;5;34m12\u001b[0m, \u001b[38;5;34m32\u001b[0m)    │         \u001b[38;5;34m64\u001b[0m │ add_1[\u001b[38;5;34m0\u001b[0m][\u001b[38;5;34m0\u001b[0m]       │\n",
       "│ (\u001b[38;5;33mLayerNormalizatio…\u001b[0m │                   │            │                   │\n",
       "├─────────────────────┼───────────────────┼────────────┼───────────────────┤\n",
       "│ multi_head_attenti… │ (\u001b[38;5;45mNone\u001b[0m, \u001b[38;5;34m12\u001b[0m, \u001b[38;5;34m32\u001b[0m)    │      \u001b[38;5;34m4,224\u001b[0m │ layer_normalizat… │\n",
       "│ (\u001b[38;5;33mMultiHeadAttentio…\u001b[0m │                   │            │ layer_normalizat… │\n",
       "├─────────────────────┼───────────────────┼────────────┼───────────────────┤\n",
       "│ dropout_4 (\u001b[38;5;33mDropout\u001b[0m) │ (\u001b[38;5;45mNone\u001b[0m, \u001b[38;5;34m12\u001b[0m, \u001b[38;5;34m32\u001b[0m)    │          \u001b[38;5;34m0\u001b[0m │ multi_head_atten… │\n",
       "├─────────────────────┼───────────────────┼────────────┼───────────────────┤\n",
       "│ add_2 (\u001b[38;5;33mAdd\u001b[0m)         │ (\u001b[38;5;45mNone\u001b[0m, \u001b[38;5;34m12\u001b[0m, \u001b[38;5;34m32\u001b[0m)    │          \u001b[38;5;34m0\u001b[0m │ layer_normalizat… │\n",
       "│                     │                   │            │ dropout_4[\u001b[38;5;34m0\u001b[0m][\u001b[38;5;34m0\u001b[0m]   │\n",
       "├─────────────────────┼───────────────────┼────────────┼───────────────────┤\n",
       "│ layer_normalizatio… │ (\u001b[38;5;45mNone\u001b[0m, \u001b[38;5;34m12\u001b[0m, \u001b[38;5;34m32\u001b[0m)    │         \u001b[38;5;34m64\u001b[0m │ add_2[\u001b[38;5;34m0\u001b[0m][\u001b[38;5;34m0\u001b[0m]       │\n",
       "│ (\u001b[38;5;33mLayerNormalizatio…\u001b[0m │                   │            │                   │\n",
       "├─────────────────────┼───────────────────┼────────────┼───────────────────┤\n",
       "│ sequential_1        │ (\u001b[38;5;45mNone\u001b[0m, \u001b[38;5;34m12\u001b[0m, \u001b[38;5;34m32\u001b[0m)    │      \u001b[38;5;34m4,192\u001b[0m │ layer_normalizat… │\n",
       "│ (\u001b[38;5;33mSequential\u001b[0m)        │                   │            │                   │\n",
       "├─────────────────────┼───────────────────┼────────────┼───────────────────┤\n",
       "│ dropout_5 (\u001b[38;5;33mDropout\u001b[0m) │ (\u001b[38;5;45mNone\u001b[0m, \u001b[38;5;34m12\u001b[0m, \u001b[38;5;34m32\u001b[0m)    │          \u001b[38;5;34m0\u001b[0m │ sequential_1[\u001b[38;5;34m0\u001b[0m][\u001b[38;5;34m…\u001b[0m │\n",
       "├─────────────────────┼───────────────────┼────────────┼───────────────────┤\n",
       "│ add_3 (\u001b[38;5;33mAdd\u001b[0m)         │ (\u001b[38;5;45mNone\u001b[0m, \u001b[38;5;34m12\u001b[0m, \u001b[38;5;34m32\u001b[0m)    │          \u001b[38;5;34m0\u001b[0m │ layer_normalizat… │\n",
       "│                     │                   │            │ dropout_5[\u001b[38;5;34m0\u001b[0m][\u001b[38;5;34m0\u001b[0m]   │\n",
       "├─────────────────────┼───────────────────┼────────────┼───────────────────┤\n",
       "│ layer_normalizatio… │ (\u001b[38;5;45mNone\u001b[0m, \u001b[38;5;34m12\u001b[0m, \u001b[38;5;34m32\u001b[0m)    │         \u001b[38;5;34m64\u001b[0m │ add_3[\u001b[38;5;34m0\u001b[0m][\u001b[38;5;34m0\u001b[0m]       │\n",
       "│ (\u001b[38;5;33mLayerNormalizatio…\u001b[0m │                   │            │                   │\n",
       "├─────────────────────┼───────────────────┼────────────┼───────────────────┤\n",
       "│ global_average_poo… │ (\u001b[38;5;45mNone\u001b[0m, \u001b[38;5;34m32\u001b[0m)        │          \u001b[38;5;34m0\u001b[0m │ layer_normalizat… │\n",
       "│ (\u001b[38;5;33mGlobalAveragePool…\u001b[0m │                   │            │                   │\n",
       "├─────────────────────┼───────────────────┼────────────┼───────────────────┤\n",
       "│ dense_11 (\u001b[38;5;33mDense\u001b[0m)    │ (\u001b[38;5;45mNone\u001b[0m, \u001b[38;5;34m1\u001b[0m)         │         \u001b[38;5;34m33\u001b[0m │ global_average_p… │\n",
       "└─────────────────────┴───────────────────┴────────────┴───────────────────┘\n"
      ]
     },
     "metadata": {},
     "output_type": "display_data"
    },
    {
     "data": {
      "text/html": [
       "<pre style=\"white-space:pre;overflow-x:auto;line-height:normal;font-family:Menlo,'DejaVu Sans Mono',consolas,'Courier New',monospace\"><span style=\"font-weight: bold\"> Total params: </span><span style=\"color: #00af00; text-decoration-color: #00af00\">20,854</span> (81.49 KB)\n",
       "</pre>\n"
      ],
      "text/plain": [
       "\u001b[1m Total params: \u001b[0m\u001b[38;5;34m20,854\u001b[0m (81.49 KB)\n"
      ]
     },
     "metadata": {},
     "output_type": "display_data"
    },
    {
     "data": {
      "text/html": [
       "<pre style=\"white-space:pre;overflow-x:auto;line-height:normal;font-family:Menlo,'DejaVu Sans Mono',consolas,'Courier New',monospace\"><span style=\"font-weight: bold\"> Trainable params: </span><span style=\"color: #00af00; text-decoration-color: #00af00\">20,833</span> (81.38 KB)\n",
       "</pre>\n"
      ],
      "text/plain": [
       "\u001b[1m Trainable params: \u001b[0m\u001b[38;5;34m20,833\u001b[0m (81.38 KB)\n"
      ]
     },
     "metadata": {},
     "output_type": "display_data"
    },
    {
     "data": {
      "text/html": [
       "<pre style=\"white-space:pre;overflow-x:auto;line-height:normal;font-family:Menlo,'DejaVu Sans Mono',consolas,'Courier New',monospace\"><span style=\"font-weight: bold\"> Non-trainable params: </span><span style=\"color: #00af00; text-decoration-color: #00af00\">21</span> (112.00 B)\n",
       "</pre>\n"
      ],
      "text/plain": [
       "\u001b[1m Non-trainable params: \u001b[0m\u001b[38;5;34m21\u001b[0m (112.00 B)\n"
      ]
     },
     "metadata": {},
     "output_type": "display_data"
    }
   ],
   "source": [
    "model.summary()"
   ]
  },
  {
   "cell_type": "code",
   "execution_count": 35,
   "id": "84c017a2",
   "metadata": {},
   "outputs": [],
   "source": [
    "X = data.drop(columns=['label', 'No.'])\n"
   ]
  },
  {
   "cell_type": "code",
   "execution_count": 36,
   "id": "dc5f129a",
   "metadata": {},
   "outputs": [
    {
     "data": {
      "text/plain": [
       "(array([0, 1]), array([1185480,  776404]))"
      ]
     },
     "execution_count": 36,
     "metadata": {},
     "output_type": "execute_result"
    }
   ],
   "source": [
    "y = data['label'].values\n",
    "y = np.where(y == 'normal', 0, 1)\n",
    "unique_values = np.unique(y, return_counts=True)\n",
    "unique_values\n"
   ]
  },
  {
   "cell_type": "code",
   "execution_count": 37,
   "id": "bb326767",
   "metadata": {},
   "outputs": [],
   "source": [
    "X_train, X_test, y_train, y_test = train_test_split(X, y, test_size=0.2 )"
   ]
  },
  {
   "cell_type": "code",
   "execution_count": 38,
   "id": "c7d75165",
   "metadata": {},
   "outputs": [
    {
     "data": {
      "text/plain": [
       "(array([0, 1]), array([237231, 155146]))"
      ]
     },
     "execution_count": 38,
     "metadata": {},
     "output_type": "execute_result"
    }
   ],
   "source": [
    "unique_values = np.unique(y_test, return_counts=True)\n",
    "unique_values"
   ]
  },
  {
   "cell_type": "code",
   "execution_count": 39,
   "id": "273f2f10",
   "metadata": {},
   "outputs": [],
   "source": [
    "# x = {\n",
    "#     col: (\n",
    "#         X_train[col].astype(str).to_numpy().reshape(-1, 1)  \n",
    "#         if col in ['Source', 'Destination', 'Protocol', 'Info']\n",
    "#         else X_train[col].to_numpy().reshape(-1, 1)\n",
    "#     )\n",
    "#     for col in X_train.columns\n",
    "# }"
   ]
  },
  {
   "cell_type": "code",
   "execution_count": 40,
   "id": "6368dbe1",
   "metadata": {},
   "outputs": [],
   "source": [
    "x = {\n",
    "    col: (\n",
    "        X_train[col].values.astype('<U32').reshape(-1, 1)\n",
    "        if col in ['Source', 'Destination', 'Protocol', 'Info']\n",
    "        else X_train[col].values.reshape(-1, 1)\n",
    "    )\n",
    "    for col in X_train.columns\n",
    "}\n"
   ]
  },
  {
   "cell_type": "code",
   "execution_count": 41,
   "id": "aa2cb5f6",
   "metadata": {},
   "outputs": [],
   "source": [
    "for col in ['Source', 'Destination', 'Protocol', 'Info']:\n",
    "    x[col] = tf.constant(x[col].flatten(), dtype=tf.string)\n",
    "    x[col] = tf.reshape(x[col], (-1, 1))"
   ]
  },
  {
   "cell_type": "code",
   "execution_count": 42,
   "id": "620b3a79",
   "metadata": {},
   "outputs": [
    {
     "name": "stdout",
     "output_type": "stream",
     "text": [
      "Key:Time - dtype:float64\n",
      "Key:Time - type:<class 'numpy.ndarray'>\n",
      "Key:Source - dtype:<dtype: 'string'>\n",
      "Key:Source - type:<class 'tensorflow.python.framework.ops.EagerTensor'>\n",
      "Key:Destination - dtype:<dtype: 'string'>\n",
      "Key:Destination - type:<class 'tensorflow.python.framework.ops.EagerTensor'>\n",
      "Key:Protocol - dtype:<dtype: 'string'>\n",
      "Key:Protocol - type:<class 'tensorflow.python.framework.ops.EagerTensor'>\n",
      "Key:Length - dtype:int64\n",
      "Key:Length - type:<class 'numpy.ndarray'>\n",
      "Key:Rank - dtype:float64\n",
      "Key:Rank - type:<class 'numpy.ndarray'>\n",
      "Key:Info - dtype:<dtype: 'string'>\n",
      "Key:Info - type:<class 'tensorflow.python.framework.ops.EagerTensor'>\n",
      "Key:Interval - dtype:int64\n",
      "Key:Interval - type:<class 'numpy.ndarray'>\n",
      "Key:RDAO - dtype:int64\n",
      "Key:RDAO - type:<class 'numpy.ndarray'>\n",
      "Key:RDIO - dtype:int64\n",
      "Key:RDIO - type:<class 'numpy.ndarray'>\n",
      "Key:SDIO - dtype:int64\n",
      "Key:SDIO - type:<class 'numpy.ndarray'>\n",
      "Key:SDAO - dtype:int64\n",
      "Key:SDAO - type:<class 'numpy.ndarray'>\n"
     ]
    },
    {
     "data": {
      "text/plain": [
       "dtype('int64')"
      ]
     },
     "execution_count": 42,
     "metadata": {},
     "output_type": "execute_result"
    }
   ],
   "source": [
    "for col in x.keys():\n",
    "    print(f\"Key:{col} - dtype:{x[col].dtype}\")\n",
    "    print(f\"Key:{col} - type:{type(x[col])}\")\n",
    "\n",
    "\n",
    "y_train.dtype\n",
    "\n"
   ]
  },
  {
   "cell_type": "code",
   "execution_count": 43,
   "id": "299eeef1",
   "metadata": {},
   "outputs": [],
   "source": [
    "import tensorflow as tf\n",
    "from tensorflow.keras.callbacks import EarlyStopping, ReduceLROnPlateau, ModelCheckpoint, Callback\n",
    "\n",
    "def get_callbacks(model_path=\"best_model.keras\"):\n",
    "    # 1. Lưu model tốt nhất\n",
    "    checkpoint = ModelCheckpoint(\n",
    "        model_path,\n",
    "        monitor=\"val_loss\",\n",
    "        save_best_only=True,\n",
    "        mode=\"min\",\n",
    "        verbose=1\n",
    "    )\n",
    "\n",
    "    # 2. EarlyStopping\n",
    "    early_stop = EarlyStopping(\n",
    "        monitor=\"val_loss\",\n",
    "        patience=3,  # số epoch chờ trước khi dừng\n",
    "        restore_best_weights=True,\n",
    "        verbose=1\n",
    "    )\n",
    "\n",
    "    # 3. Giảm learning rate khi chững lại\n",
    "    reduce_lr = ReduceLROnPlateau(\n",
    "        monitor=\"val_loss\",\n",
    "        factor=0.5,\n",
    "        patience=2,\n",
    "        min_lr=1e-6,\n",
    "        verbose=1\n",
    "    )\n",
    "\n",
    "    # 4. Callback custom dừng khi thấy overfit\n",
    "    # overfit_stop = OverfitStop(patience=2, gap_threshold=0.1)\n",
    "\n",
    "    # return [checkpoint, early_stop, reduce_lr, overfit_stop]\n",
    "    return [checkpoint, early_stop, reduce_lr]"
   ]
  },
  {
   "cell_type": "code",
   "execution_count": 44,
   "id": "5de9501b",
   "metadata": {},
   "outputs": [],
   "source": [
    "callbacks = get_callbacks(\"best_model_UOS.keras\")"
   ]
  },
  {
   "cell_type": "code",
   "execution_count": 45,
   "id": "5197c066",
   "metadata": {},
   "outputs": [
    {
     "name": "stdout",
     "output_type": "stream",
     "text": [
      "Class Weights: {0: np.float64(0.8275816794955755), 1: np.float64(1.2631684420965203)}\n"
     ]
    }
   ],
   "source": [
    "from sklearn.utils.class_weight import compute_class_weight\n",
    "import numpy as np\n",
    "\n",
    "classes = np.unique(y_train)\n",
    "class_weights = compute_class_weight(class_weight='balanced',\n",
    "                                     classes=classes,\n",
    "                                     y=y_train)\n",
    "\n",
    "class_weights = dict(enumerate(class_weights))\n",
    "print(\"Class Weights:\", class_weights)"
   ]
  },
  {
   "cell_type": "code",
   "execution_count": null,
   "id": "db9c2c8d",
   "metadata": {},
   "outputs": [
    {
     "name": "stdout",
     "output_type": "stream",
     "text": [
      "Epoch 1/100\n",
      "\u001b[1m39238/39238\u001b[0m \u001b[32m━━━━━━━━━━━━━━━━━━━━\u001b[0m\u001b[37m\u001b[0m \u001b[1m0s\u001b[0m 29ms/step - accuracy: 0.9231 - loss: 0.1901 - precision: 0.8650 - recall: 0.9545\n",
      "Epoch 1: val_loss improved from inf to 0.17117, saving model to best_model_UOS.keras\n",
      "\u001b[1m39238/39238\u001b[0m \u001b[32m━━━━━━━━━━━━━━━━━━━━\u001b[0m\u001b[37m\u001b[0m \u001b[1m1232s\u001b[0m 31ms/step - accuracy: 0.9231 - loss: 0.1901 - precision: 0.8650 - recall: 0.9545 - val_accuracy: 0.9306 - val_loss: 0.1712 - val_precision: 0.8804 - val_recall: 0.9545 - learning_rate: 0.0010\n",
      "Epoch 2/100\n",
      "\u001b[1m39238/39238\u001b[0m \u001b[32m━━━━━━━━━━━━━━━━━━━━\u001b[0m\u001b[37m\u001b[0m \u001b[1m0s\u001b[0m 29ms/step - accuracy: 0.9294 - loss: 0.1685 - precision: 0.8746 - recall: 0.9592"
     ]
    }
   ],
   "source": [
    "model.fit(\n",
    "    x, y_train,\n",
    "    epochs=100,\n",
    "    batch_size=32,\n",
    "    validation_split=0.2,   # lấy 20% dữ liệu train làm validation\n",
    "    class_weight=class_weights,\n",
    "    callbacks=callbacks,\n",
    "    verbose=1,\n",
    "    shuffle=True\n",
    ")"
   ]
  },
  {
   "cell_type": "code",
   "execution_count": null,
   "id": "508d6903",
   "metadata": {},
   "outputs": [],
   "source": [
    "from tensorflow.keras.models import load_model\n",
    "best_model = load_model(\"best_model_UOS.keras\")"
   ]
  },
  {
   "cell_type": "code",
   "execution_count": null,
   "id": "37238f57",
   "metadata": {},
   "outputs": [],
   "source": [
    "x_test = {\n",
    "    col: (\n",
    "        X_test[col].values.astype('<U32').reshape(-1, 1)\n",
    "        if col in ['Source', 'Destination', 'Protocol', 'Info']\n",
    "        else X_test[col].values.reshape(-1, 1)\n",
    "    )\n",
    "    for col in X_test.columns\n",
    "}"
   ]
  },
  {
   "cell_type": "code",
   "execution_count": null,
   "id": "95b8678c",
   "metadata": {},
   "outputs": [],
   "source": [
    "for col in ['Source', 'Destination', 'Protocol', 'Info']:\n",
    "    x_test[col] = tf.constant(x_test[col].flatten(), dtype=tf.string)\n",
    "    x_test[col] = tf.reshape(x_test[col], (-1, 1))"
   ]
  },
  {
   "cell_type": "code",
   "execution_count": null,
   "id": "474418b2",
   "metadata": {},
   "outputs": [
    {
     "name": "stdout",
     "output_type": "stream",
     "text": [
      "\u001b[1m12565/12565\u001b[0m \u001b[32m━━━━━━━━━━━━━━━━━━━━\u001b[0m\u001b[37m\u001b[0m \u001b[1m611s\u001b[0m 49ms/step - accuracy: 0.9231 - loss: 0.2018 - precision: 0.8879 - recall: 0.9237\n"
     ]
    },
    {
     "data": {
      "text/plain": [
       "[0.2014213502407074,\n",
       " 0.9231855869293213,\n",
       " 0.8878992199897766,\n",
       " 0.9244950413703918]"
      ]
     },
     "execution_count": 338,
     "metadata": {},
     "output_type": "execute_result"
    }
   ],
   "source": [
    "best_model.evaluate(x_test, y_test)"
   ]
  }
 ],
 "metadata": {
  "kernelspec": {
   "display_name": "thesis_env",
   "language": "python",
   "name": "python3"
  },
  "language_info": {
   "codemirror_mode": {
    "name": "ipython",
    "version": 3
   },
   "file_extension": ".py",
   "mimetype": "text/x-python",
   "name": "python",
   "nbconvert_exporter": "python",
   "pygments_lexer": "ipython3",
   "version": "3.9.23"
  }
 },
 "nbformat": 4,
 "nbformat_minor": 5
}
